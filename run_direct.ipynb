{
 "cells": [
  {
   "cell_type": "markdown",
   "metadata": {},
   "source": [
    "# Oasis FM Test Tool v0.6\n",
    "\n",
    "This notebook allows example insurance structures to be input in OED format and ran against the development version of the Oasis finanical engine. \n",
    "\n",
    "## Included\n",
    "\n",
    "The following terminology is defined in OED. Please visit https://github.com/Simplitium/OED for more information.\n",
    "\n",
    "* Standard direct insurance modelling \n",
    "    * Site (Coverages: Buildings, Other, Contents, BI, PD and All)\n",
    "        * Ded, Limit\n",
    "    * Cond (Coverages: All) A single condition per site only.\n",
    "        * MinDed, Limit\n",
    "    * Pol (Coverages: All)\n",
    "        * Ded, MinDed, MaxDed, Limit\n",
    "    * Layers - Multiple per account\n",
    "        * Attachment, Limit, Participation\n",
    "    * Deductible Types 0 and 2 (% TIV) only\n",
    "    * Limit Types 0 and 2 (% TIV) only\n",
    "    \n",
    "\n",
    "## Not included\n",
    "* Peril codes\n",
    "* Type 1 terms (% loss)\n",
    "* Code field\n"
   ]
  },
  {
   "cell_type": "markdown",
   "metadata": {},
   "source": [
    "## Test cases\n",
    "\n",
    "A selection of test cases can be found in the examples folder.\n"
   ]
  },
  {
   "cell_type": "markdown",
   "metadata": {},
   "source": [
    "## Input files \n",
    "\n",
    "Files must be named the following:\n",
    "\n",
    "* account.csv\n",
    "* location.csv\n",
    "\n",
    "\n",
    "## Validation Rules\n",
    "\n",
    "* TBC"
   ]
  },
  {
   "cell_type": "code",
   "execution_count": null,
   "metadata": {},
   "outputs": [],
   "source": [
    "# 1. Notebook and Python setup\n",
    "%config IPCompleter.greedy=True\n",
    "\n",
    "# Standard Python libraries\n",
    "import io\n",
    "import json\n",
    "import os\n",
    "import shutil\n",
    "\n",
    "# 3rd party Python libraries\n",
    "import jupyter_helper\n",
    "import pandas as pd\n",
    "import six\n",
    "    \n",
    "# Oasis imports\n",
    "from oasislmf.model_preparation import oed\n",
    "from oasislmf.manager import OasisManager as manager"
   ]
  },
  {
   "cell_type": "code",
   "execution_count": null,
   "metadata": {},
   "outputs": [],
   "source": [
    "jupyter_helper.file_uploader('examples/uploaded')"
   ]
  },
  {
   "cell_type": "code",
   "execution_count": null,
   "metadata": {},
   "outputs": [],
   "source": [
    "# 2. Load the OED for a worked example, in this case FM Test Case 3.\n",
    "\n",
    "# Note that only the currently used fields are shown unless show_all is set to True. \n",
    "oed_dir = os.path.abspath('ftest/fm3')\n",
    "\n",
    "# Account file\n",
    "oed_account_file = os.path.join(oed_dir, \"account.csv\")\n",
    "if not os.path.exists(oed_account_file):\n",
    "    print(\"Path does not exist: {}\".format(oed_account_file))\n",
    "    exit(1)\n",
    "account_df = pd.read_csv(oed_account_file)\n",
    "\n",
    "# Location file\n",
    "oed_location_file = os.path.join(oed_dir, \"location.csv\")\n",
    "if not os.path.exists(oed_location_file):\n",
    "    print(\"Path does not exist: {}\".format(oed_location_file))\n",
    "    exit(1)\n",
    "location_df = pd.read_csv(oed_location_file)"
   ]
  },
  {
   "cell_type": "code",
   "execution_count": null,
   "metadata": {
    "scrolled": true
   },
   "outputs": [],
   "source": [
    "# 3. View/edit the account data. \n",
    "account_grid = jupyter_helper.show_df(account_df)\n",
    "account_grid"
   ]
  },
  {
   "cell_type": "code",
   "execution_count": null,
   "metadata": {},
   "outputs": [],
   "source": [
    "# 4. View/edit the location data.\n",
    "location_grid = jupyter_helper.show_df(location_df)\n",
    "location_grid"
   ]
  },
  {
   "cell_type": "code",
   "execution_count": null,
   "metadata": {
    "scrolled": true
   },
   "outputs": [],
   "source": [
    "# 5. Create a persistent run directory, and pick up any edits in the grid before running the analysis\n",
    "# and copy the source files into the run directory\n",
    "run_dir = os.path.join(os.getcwd(), 'run_direct_dir')\n",
    "if not os.path.exists(run_dir):\n",
    "    os.mkdir(run_dir)\n",
    "\n",
    "account_df = account_grid.get_changed_df()\n",
    "location_df = location_grid.get_changed_df()\n",
    "\n",
    "account_df.to_csv(path_or_buf=os.path.join(run_dir, \"account.csv\"), encoding='utf-8', index=False)\n",
    "location_df.to_csv(path_or_buf=os.path.join(run_dir, \"location.csv\"), encoding='utf-8', index=False)"
   ]
  },
  {
   "cell_type": "code",
   "execution_count": null,
   "metadata": {},
   "outputs": [],
   "source": [
    "# 8. Generate the direct losses\n",
    "loss_factor = 1.0\n",
    "_, ils, _ = manager().run_deterministic(run_dir, output_dir=run_dir, loss_percentage_of_tiv=loss_factor)"
   ]
  },
  {
   "cell_type": "code",
   "execution_count": null,
   "metadata": {},
   "outputs": [],
   "source": [
    "# 9. View the direct losses.\n",
    "ils"
   ]
  },
  {
   "cell_type": "markdown",
   "metadata": {},
   "source": [
    "## Optional Steps\n"
   ]
  },
  {
   "cell_type": "code",
   "execution_count": null,
   "metadata": {},
   "outputs": [],
   "source": [
    "# 10. Write the direct losses to file (in `run_reinsurance`)\n",
    "ils.to_csv(path_or_buf=os.path.join(run_dir, 'output_direct.csv'), encoding='utf-8', index=False)"
   ]
  }
 ],
 "metadata": {
  "kernelspec": {
   "display_name": "Python 3",
   "language": "python",
   "name": "python3"
  },
  "language_info": {
   "codemirror_mode": {
    "name": "ipython",
    "version": 3
   },
   "file_extension": ".py",
   "mimetype": "text/x-python",
   "name": "python",
   "nbconvert_exporter": "python",
   "pygments_lexer": "ipython3",
   "version": "3.6.7"
  }
 },
 "nbformat": 4,
 "nbformat_minor": 2
}
