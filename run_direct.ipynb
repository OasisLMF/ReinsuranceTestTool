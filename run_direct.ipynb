{
 "cells": [
  {
   "cell_type": "markdown",
   "metadata": {},
   "source": [
    "# Oasis FM Test Tool v0.6\n",
    "\n",
    "This notebook allows example insurance structures to be input in OED format and ran against the development version of the Oasis finanical engine. \n",
    "\n",
    "## Included\n",
    "\n",
    "The following terminology is defined in OED. Please visit https://github.com/Simplitium/OED for more information.\n",
    "\n",
    "* Standard direct insurance modelling \n",
    "    * Site (Coverages: Buildings, Other, Contents, BI, PD and All)\n",
    "        * Ded, Limit\n",
    "    * Cond (Coverages: All) A single condition per site only.\n",
    "        * MinDed, Limit\n",
    "    * Pol (Coverages: All)\n",
    "        * Ded, MinDed, MaxDed, Limit\n",
    "    * Layers - Multiple per account\n",
    "        * Attachment, Limit, Participation\n",
    "    * Deductible Types 0 and 2 (% TIV) only\n",
    "    * Limit Types 0 and 2 (% TIV) only\n",
    "    \n",
    "\n",
    "## Not included\n",
    "* Peril codes\n",
    "* Type 1 terms (% loss)\n",
    "* Code field\n"
   ]
  },
  {
   "cell_type": "markdown",
   "metadata": {},
   "source": [
    "## Test cases\n",
    "\n",
    "A selection of test cases can be found in the examples folder.\n"
   ]
  },
  {
   "cell_type": "markdown",
   "metadata": {},
   "source": [
    "## Input files \n",
    "\n",
    "Files must be named the following:\n",
    "\n",
    "* account.csv\n",
    "* location.csv\n",
    "\n",
    "\n",
    "## Validation Rules\n",
    "\n",
    "* TBC"
   ]
  },
  {
   "cell_type": "code",
   "execution_count": null,
   "metadata": {},
   "outputs": [],
   "source": [
    "# Notebook and Python setup\n",
    "%config IPCompleter.greedy=True\n",
    "\n",
    "# Standard Python libraries\n",
    "import io\n",
    "import json\n",
    "import os\n",
    "\n",
    "# 3rd party Python libraries\n",
    "import jupyter_helper\n",
    "import pandas as pd\n",
    "import six\n",
    "    \n",
    "# Oasis imports\n",
    "import oasislmf._data as static_data \n",
    "from oasislmf.model_preparation import oed\n",
    "from oasislmf.utils.deterministic_loss import (\n",
    "    generate_oasis_files,\n",
    "    generate_losses,\n",
    ")\n"
   ]
  },
  {
   "cell_type": "code",
   "execution_count": null,
   "metadata": {},
   "outputs": [],
   "source": [
    "jupyter_helper.file_uploader('examples/uploaded')"
   ]
  },
  {
   "cell_type": "code",
   "execution_count": null,
   "metadata": {},
   "outputs": [],
   "source": [
    "# Load the OED for a worked example, in this case FM Test Case 23.\n",
    "\n",
    "# Note that only the currently used fields are shown unless show_all is set to True. \n",
    "oed_dir = os.path.abspath('examples_old/loc_SS')\n",
    "\n",
    "# Account file\n",
    "oed_account_file = os.path.join(oed_dir, \"account.csv\")\n",
    "if not os.path.exists(oed_account_file):\n",
    "    print(\"Path does not exist: {}\".format(oed_account_file))\n",
    "    exit(1)\n",
    "account_df = pd.read_csv(oed_account_file)\n",
    "\n",
    "# Location file\n",
    "oed_location_file = os.path.join(oed_dir, \"location.csv\")\n",
    "if not os.path.exists(oed_location_file):\n",
    "    print(\"Path does not exist: {}\".format(oed_location_file))\n",
    "    exit(1)\n",
    "location_df = pd.read_csv(oed_location_file)"
   ]
  },
  {
   "cell_type": "code",
   "execution_count": null,
   "metadata": {
    "scrolled": true
   },
   "outputs": [],
   "source": [
    "# View/edit the account data. \n",
    "account_grid = jupyter_helper.show_df(account_df)\n",
    "account_grid"
   ]
  },
  {
   "cell_type": "code",
   "execution_count": null,
   "metadata": {},
   "outputs": [],
   "source": [
    "# View/edit the location data.\n",
    "location_grid = jupyter_helper.show_df(location_df)\n",
    "location_grid"
   ]
  },
  {
   "cell_type": "code",
   "execution_count": null,
   "metadata": {
    "scrolled": true
   },
   "outputs": [],
   "source": [
    "# Pick up any edits in the grid before running the analysis\n",
    "account_df = account_grid.get_changed_df()\n",
    "location_df = location_grid.get_changed_df()\n",
    "\n",
    "direct_oasis_files_dir = os.path.abspath('run_reinsurance')\n",
    "account_df.to_csv(os.path.join(direct_oasis_files_dir, \"account.csv\"), index=False)\n",
    "location_df.to_csv(os.path.join(direct_oasis_files_dir, \"location.csv\"), index=False)\n",
    "\n",
    "data_fp = static_data.__path__._path[0]    \n",
    "srcacctocan_trans_fp = os.path.join(data_fp, 'MappingMapToOED_CanAccA.xslt')\n",
    "srcexptocan_trans_fp = os.path.join(data_fp, 'MappingMapToOED_CanLocA.xslt')\n",
    "output_dir = os.path.join(direct_oasis_files_dir, \"output\")\n",
    "(ri_layers, xref_descriptions) = generate_oasis_files(\n",
    "    direct_oasis_files_dir, output_dir, \n",
    "    srcexptocan_trans_fp, srcacctocan_trans_fp)\n",
    "loss_factor = 0.5\n",
    "net_losses = generate_losses(\n",
    "    output_dir, xref_descriptions, loss_percentage_of_tiv=loss_factor, ri_layers=ri_layers)"
   ]
  },
  {
   "cell_type": "code",
   "execution_count": null,
   "metadata": {},
   "outputs": [],
   "source": [
    "# View the direct losses.\n",
    "key = 'Direct'\n",
    "net_losses[key]"
   ]
  },
  {
   "cell_type": "markdown",
   "metadata": {},
   "source": [
    "## Optional Steps\n"
   ]
  },
  {
   "cell_type": "code",
   "execution_count": null,
   "metadata": {},
   "outputs": [],
   "source": [
    "# Write outputs to CSV for download.\n",
    "for (description, net_loss) in net_losses.items():\n",
    "    filename = \"output_{}.csv\".format(description.replace(' ', '_'))\n",
    "    net_loss.to_csv(filename, index=False)"
   ]
  }
 ],
 "metadata": {
  "kernelspec": {
   "display_name": "Python 3",
   "language": "python",
   "name": "python3"
  },
  "language_info": {
   "codemirror_mode": {
    "name": "ipython",
    "version": 3
   },
   "file_extension": ".py",
   "mimetype": "text/x-python",
   "name": "python",
   "nbconvert_exporter": "python",
   "pygments_lexer": "ipython3",
   "version": "3.5.2"
  }
 },
 "nbformat": 4,
 "nbformat_minor": 2
}
