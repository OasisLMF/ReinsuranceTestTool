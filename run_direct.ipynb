{
 "cells": [
  {
   "cell_type": "markdown",
   "metadata": {},
   "source": [
    "# Oasis FM Test Tool v0.6\n",
    "\n",
    "This notebook allows example insurance structures to be input in OED format and ran against the development version of the Oasis finanical engine. \n",
    "\n",
    "## Included\n",
    "\n",
    "The following terminology is defined in OED. Please visit https://github.com/Simplitium/OED for more information.\n",
    "\n",
    "* Standard direct insurance modelling \n",
    "    * Site (Coverages: Buildings, Other, Contents, BI, PD and All)\n",
    "        * Ded, Limit\n",
    "    * Cond (Coverages: All) A single condition per site only.\n",
    "        * MinDed, Limit\n",
    "    * Pol (Coverages: All)\n",
    "        * Ded, MinDed, MaxDed, Limit\n",
    "    * Layers - Multiple per account\n",
    "        * Attachment, Limit, Participation\n",
    "    * Deductible Types 0 and 2 (% TIV) only\n",
    "    * Limit Types 0 and 2 (% TIV) only\n",
    "    \n",
    "\n",
    "## Not included\n",
    "* Peril codes\n",
    "* Type 1 terms (% loss)\n",
    "* Code field\n"
   ]
  },
  {
   "cell_type": "markdown",
   "metadata": {},
   "source": [
    "## Test cases\n",
    "\n",
    "A selection of test cases can be found in the examples folder.\n"
   ]
  },
  {
   "cell_type": "markdown",
   "metadata": {},
   "source": [
    "## Input files \n",
    "\n",
    "Files must be named the following:\n",
    "\n",
    "* account.csv\n",
    "* location.csv\n",
    "\n",
    "\n",
    "## Validation Rules\n",
    "\n",
    "* TBC"
   ]
  },
  {
   "cell_type": "code",
   "execution_count": 46,
   "metadata": {},
   "outputs": [],
   "source": [
    "# 1. Notebook and Python setup\n",
    "%config IPCompleter.greedy=True\n",
    "\n",
    "# Standard Python libraries\n",
    "import io\n",
    "import json\n",
    "import os\n",
    "import shutil\n",
    "\n",
    "# 3rd party Python libraries\n",
    "import jupyter_helper\n",
    "import pandas as pd\n",
    "import six\n",
    "    \n",
    "# Oasis imports\n",
    "import oasislmf._data as mdk_static_data \n",
    "from oasislmf.model_preparation import oed\n",
    "from oasislmf.utils.deterministic_loss import (\n",
    "    generate_oasis_files,\n",
    "    generate_losses,\n",
    ")"
   ]
  },
  {
   "cell_type": "code",
   "execution_count": null,
   "metadata": {},
   "outputs": [],
   "source": [
    "jupyter_helper.file_uploader('examples/uploaded')"
   ]
  },
  {
   "cell_type": "code",
   "execution_count": 47,
   "metadata": {},
   "outputs": [],
   "source": [
    "# 2. Load the OED for a worked example, in this case FM Test Case 3.\n",
    "\n",
    "# Note that only the currently used fields are shown unless show_all is set to True. \n",
    "oed_dir = os.path.abspath('ftest/fm3')\n",
    "\n",
    "# Account file\n",
    "oed_account_file = os.path.join(oed_dir, \"account.csv\")\n",
    "if not os.path.exists(oed_account_file):\n",
    "    print(\"Path does not exist: {}\".format(oed_account_file))\n",
    "    exit(1)\n",
    "account_df = pd.read_csv(oed_account_file)\n",
    "\n",
    "# Location file\n",
    "oed_location_file = os.path.join(oed_dir, \"location.csv\")\n",
    "if not os.path.exists(oed_location_file):\n",
    "    print(\"Path does not exist: {}\".format(oed_location_file))\n",
    "    exit(1)\n",
    "location_df = pd.read_csv(oed_location_file)"
   ]
  },
  {
   "cell_type": "code",
   "execution_count": 48,
   "metadata": {
    "scrolled": true
   },
   "outputs": [
    {
     "data": {
      "application/vnd.jupyter.widget-view+json": {
       "model_id": "e607503598bd4c1daabdc575c4c493c2",
       "version_major": 2,
       "version_minor": 0
      },
      "text/plain": [
       "QgridWidget(grid_options={'fullWidthRows': True, 'syncColumnCellResize': True, 'forceFitColumns': False, 'defa…"
      ]
     },
     "metadata": {},
     "output_type": "display_data"
    }
   ],
   "source": [
    "# 3. View/edit the account data. \n",
    "account_grid = jupyter_helper.show_df(account_df)\n",
    "account_grid"
   ]
  },
  {
   "cell_type": "code",
   "execution_count": 49,
   "metadata": {},
   "outputs": [
    {
     "data": {
      "application/vnd.jupyter.widget-view+json": {
       "model_id": "ff17a508d9184e949016298a4e7c0119",
       "version_major": 2,
       "version_minor": 0
      },
      "text/plain": [
       "QgridWidget(grid_options={'fullWidthRows': True, 'syncColumnCellResize': True, 'forceFitColumns': False, 'defa…"
      ]
     },
     "metadata": {},
     "output_type": "display_data"
    }
   ],
   "source": [
    "# 4. View/edit the location data.\n",
    "location_grid = jupyter_helper.show_df(location_df)\n",
    "location_grid"
   ]
  },
  {
   "cell_type": "code",
   "execution_count": 50,
   "metadata": {},
   "outputs": [],
   "source": [
    "# 5. Create the direct Oasis files directory `run_reinsurance`, and set up\n",
    "# the MDK provided static source -> canonical CSV transformation files\n",
    "# for the source exposure and account files.\n",
    "direct_oasis_files_dir = os.path.abspath('run_reinsurance')\n",
    "if os.path.exists(direct_oasis_files_dir):\n",
    "    shutil.rmtree(direct_oasis_files_dir)\n",
    "\n",
    "os.mkdir(direct_oasis_files_dir)\n",
    "\n",
    "mdk_static_data_fp = mdk_static_data.__path__._path[0]\n",
    "srcacctocan_trans_fp = os.path.join(mdk_static_data_fp, 'MappingMapToOED_CanAccA.xslt')\n",
    "srcexptocan_trans_fp = os.path.join(mdk_static_data_fp, 'MappingMapToOED_CanLocA.xslt')"
   ]
  },
  {
   "cell_type": "code",
   "execution_count": 51,
   "metadata": {
    "scrolled": true
   },
   "outputs": [],
   "source": [
    "# 6. Pick up any edits in the grid before running the analysis\n",
    "# and copy the updated files into `run_reinsurance`\n",
    "account_df = account_grid.get_changed_df()\n",
    "location_df = location_grid.get_changed_df()\n",
    "\n",
    "account_df.to_csv(path_or_buf=os.path.join(direct_oasis_files_dir, \"account.csv\"), encoding='utf-8', index=False)\n",
    "location_df.to_csv(path_or_buf=os.path.join(direct_oasis_files_dir, \"location.csv\"), encoding='utf-8', index=False)"
   ]
  },
  {
   "cell_type": "code",
   "execution_count": 52,
   "metadata": {},
   "outputs": [],
   "source": [
    "# 7. Generate the direct Oasis files in `run_reinsurance`\n",
    "output_dir = os.path.join(direct_oasis_files_dir, \"output\")\n",
    "(ri_layers, xref_descriptions) = generate_oasis_files(\n",
    "    direct_oasis_files_dir, output_dir, \n",
    "    srcexptocan_trans_fp, srcacctocan_trans_fp)\n"
   ]
  },
  {
   "cell_type": "code",
   "execution_count": 53,
   "metadata": {},
   "outputs": [],
   "source": [
    "# 8. Generate the direct losses\n",
    "loss_factor = 0.5\n",
    "net_losses = generate_losses(\n",
    "    output_dir,\n",
    "    xref_descriptions,\n",
    "    loss_percentage_of_tiv=loss_factor,\n",
    "    ri_layers=ri_layers\n",
    ")"
   ]
  },
  {
   "cell_type": "code",
   "execution_count": 54,
   "metadata": {},
   "outputs": [
    {
     "data": {
      "text/html": [
       "<div>\n",
       "<style scoped>\n",
       "    .dataframe tbody tr th:only-of-type {\n",
       "        vertical-align: middle;\n",
       "    }\n",
       "\n",
       "    .dataframe tbody tr th {\n",
       "        vertical-align: top;\n",
       "    }\n",
       "\n",
       "    .dataframe thead th {\n",
       "        text-align: right;\n",
       "    }\n",
       "</style>\n",
       "<table border=\"1\" class=\"dataframe\">\n",
       "  <thead>\n",
       "    <tr style=\"text-align: right;\">\n",
       "      <th></th>\n",
       "      <th>portfolio_number</th>\n",
       "      <th>policy_number</th>\n",
       "      <th>account_number</th>\n",
       "      <th>location_number</th>\n",
       "      <th>location_group</th>\n",
       "      <th>cedant_name</th>\n",
       "      <th>producer_name</th>\n",
       "      <th>lob</th>\n",
       "      <th>country_code</th>\n",
       "      <th>reins_tag</th>\n",
       "      <th>coverage_type_id</th>\n",
       "      <th>peril_id</th>\n",
       "      <th>tiv</th>\n",
       "      <th>loss_gul</th>\n",
       "      <th>loss_il</th>\n",
       "    </tr>\n",
       "  </thead>\n",
       "  <tbody>\n",
       "    <tr>\n",
       "      <th>0</th>\n",
       "      <td>1</td>\n",
       "      <td>1</td>\n",
       "      <td>1</td>\n",
       "      <td>1</td>\n",
       "      <td>None</td>\n",
       "      <td>None</td>\n",
       "      <td>None</td>\n",
       "      <td>None</td>\n",
       "      <td>US</td>\n",
       "      <td>None</td>\n",
       "      <td>1</td>\n",
       "      <td>1</td>\n",
       "      <td>1000000</td>\n",
       "      <td>1000000.0</td>\n",
       "      <td>900000.0</td>\n",
       "    </tr>\n",
       "    <tr>\n",
       "      <th>1</th>\n",
       "      <td>1</td>\n",
       "      <td>1</td>\n",
       "      <td>1</td>\n",
       "      <td>1</td>\n",
       "      <td>None</td>\n",
       "      <td>None</td>\n",
       "      <td>None</td>\n",
       "      <td>None</td>\n",
       "      <td>US</td>\n",
       "      <td>None</td>\n",
       "      <td>2</td>\n",
       "      <td>1</td>\n",
       "      <td>100000</td>\n",
       "      <td>100000.0</td>\n",
       "      <td>90000.0</td>\n",
       "    </tr>\n",
       "    <tr>\n",
       "      <th>2</th>\n",
       "      <td>1</td>\n",
       "      <td>1</td>\n",
       "      <td>1</td>\n",
       "      <td>1</td>\n",
       "      <td>None</td>\n",
       "      <td>None</td>\n",
       "      <td>None</td>\n",
       "      <td>None</td>\n",
       "      <td>US</td>\n",
       "      <td>None</td>\n",
       "      <td>3</td>\n",
       "      <td>1</td>\n",
       "      <td>50000</td>\n",
       "      <td>50000.0</td>\n",
       "      <td>45000.0</td>\n",
       "    </tr>\n",
       "    <tr>\n",
       "      <th>3</th>\n",
       "      <td>1</td>\n",
       "      <td>1</td>\n",
       "      <td>1</td>\n",
       "      <td>1</td>\n",
       "      <td>None</td>\n",
       "      <td>None</td>\n",
       "      <td>None</td>\n",
       "      <td>None</td>\n",
       "      <td>US</td>\n",
       "      <td>None</td>\n",
       "      <td>4</td>\n",
       "      <td>1</td>\n",
       "      <td>20000</td>\n",
       "      <td>20000.0</td>\n",
       "      <td>18000.0</td>\n",
       "    </tr>\n",
       "  </tbody>\n",
       "</table>\n",
       "</div>"
      ],
      "text/plain": [
       "   portfolio_number  policy_number  account_number  location_number  \\\n",
       "0                 1              1               1                1   \n",
       "1                 1              1               1                1   \n",
       "2                 1              1               1                1   \n",
       "3                 1              1               1                1   \n",
       "\n",
       "  location_group cedant_name producer_name   lob country_code reins_tag  \\\n",
       "0           None        None          None  None           US      None   \n",
       "1           None        None          None  None           US      None   \n",
       "2           None        None          None  None           US      None   \n",
       "3           None        None          None  None           US      None   \n",
       "\n",
       "   coverage_type_id  peril_id      tiv   loss_gul   loss_il  \n",
       "0                 1         1  1000000  1000000.0  900000.0  \n",
       "1                 2         1   100000   100000.0   90000.0  \n",
       "2                 3         1    50000    50000.0   45000.0  \n",
       "3                 4         1    20000    20000.0   18000.0  "
      ]
     },
     "execution_count": 54,
     "metadata": {},
     "output_type": "execute_result"
    }
   ],
   "source": [
    "# 9. View the direct losses.\n",
    "direct_losses = net_losses.get('direct') or net_losses.get('Direct')\n",
    "direct_losses"
   ]
  },
  {
   "cell_type": "markdown",
   "metadata": {},
   "source": [
    "## Optional Steps\n"
   ]
  },
  {
   "cell_type": "code",
   "execution_count": 55,
   "metadata": {},
   "outputs": [],
   "source": [
    "# 10. Write the direct losses to file (in `run_reinsurance`)\n",
    "direct_losses.to_csv(path_or_buf=os.path.join(direct_oasis_files_dir, 'output', 'output_direct.csv'), encoding='utf-8', index=False)"
   ]
  },
  {
   "cell_type": "code",
   "execution_count": null,
   "metadata": {},
   "outputs": [],
   "source": []
  }
 ],
 "metadata": {
  "kernelspec": {
   "display_name": "Python 3",
   "language": "python",
   "name": "python3"
  },
  "language_info": {
   "codemirror_mode": {
    "name": "ipython",
    "version": 3
   },
   "file_extension": ".py",
   "mimetype": "text/x-python",
   "name": "python",
   "nbconvert_exporter": "python",
   "pygments_lexer": "ipython3",
   "version": "3.6.7"
  }
 },
 "nbformat": 4,
 "nbformat_minor": 2
}