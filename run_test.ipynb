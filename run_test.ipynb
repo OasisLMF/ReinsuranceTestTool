{
 "cells": [
  {
   "cell_type": "markdown",
   "metadata": {},
   "source": [
    "# Oasis Reinsurance Test Tool\n",
    "\n",
    "This notebook allows example reinsurance structures to be input in OED format and ran against the development version of the Oasis finanical engine. "
   ]
  },
  {
   "cell_type": "markdown",
   "metadata": {},
   "source": [
    "## Oasis Reinsurance FM vYY\n",
    "\n",
    "* Basic direct insurance modelling\n",
    "* Location FAC treaties (no occurrence limit)\n",
    "* Cat XL treaties"
   ]
  },
  {
   "cell_type": "code",
   "execution_count": 1,
   "metadata": {},
   "outputs": [],
   "source": [
    "import reinsurance_tester\n",
    "import jupyter_helper\n",
    "import pandas as pd"
   ]
  },
  {
   "cell_type": "markdown",
   "metadata": {},
   "source": [
    "This example loads the OED for FM test case 23."
   ]
  },
  {
   "cell_type": "code",
   "execution_count": 11,
   "metadata": {},
   "outputs": [],
   "source": [
    "(account_df, location_df, ri_info_df, ri_scope_df) = reinsurance_tester.load_oed_dfs('fm_23_oed')"
   ]
  },
  {
   "cell_type": "markdown",
   "metadata": {},
   "source": [
    "View and edit the 4 OED files: account, location, reinsurance_info and reinsurance_scope."
   ]
  },
  {
   "cell_type": "code",
   "execution_count": 3,
   "metadata": {
    "scrolled": true
   },
   "outputs": [
    {
     "data": {
      "application/vnd.jupyter.widget-view+json": {
       "model_id": "8b9cc99f8f1645129aa40991ad32c4aa",
       "version_major": 2,
       "version_minor": 0
      },
      "text/plain": [
       "QgridWidget(grid_options={'forceFitColumns': False}, precision=5, show_toolbar=True)"
      ]
     },
     "metadata": {},
     "output_type": "display_data"
    }
   ],
   "source": [
    "jupyter_helper.show_df(account_df)"
   ]
  },
  {
   "cell_type": "code",
   "execution_count": 4,
   "metadata": {},
   "outputs": [
    {
     "data": {
      "application/vnd.jupyter.widget-view+json": {
       "model_id": "2c3c62f3c8c84df3b6cdd62d47296381",
       "version_major": 2,
       "version_minor": 0
      },
      "text/plain": [
       "QgridWidget(grid_options={'forceFitColumns': False}, precision=5, show_toolbar=True)"
      ]
     },
     "metadata": {},
     "output_type": "display_data"
    }
   ],
   "source": [
    "jupyter_helper.show_df(location_df)"
   ]
  },
  {
   "cell_type": "code",
   "execution_count": 5,
   "metadata": {},
   "outputs": [
    {
     "data": {
      "application/vnd.jupyter.widget-view+json": {
       "model_id": "93072114c3084a90a327344b79d1c108",
       "version_major": 2,
       "version_minor": 0
      },
      "text/plain": [
       "QgridWidget(grid_options={'forceFitColumns': False}, precision=5, show_toolbar=True)"
      ]
     },
     "metadata": {},
     "output_type": "display_data"
    }
   ],
   "source": [
    "jupyter_helper.show_df(ri_info_df)"
   ]
  },
  {
   "cell_type": "code",
   "execution_count": 6,
   "metadata": {},
   "outputs": [
    {
     "data": {
      "application/vnd.jupyter.widget-view+json": {
       "model_id": "fafc460b1faf4b9882127ec7d26fbc94",
       "version_major": 2,
       "version_minor": 0
      },
      "text/plain": [
       "QgridWidget(grid_options={'forceFitColumns': False}, precision=5, show_toolbar=True)"
      ]
     },
     "metadata": {},
     "output_type": "display_data"
    }
   ],
   "source": [
    "jupyter_helper.show_df(ri_scope_df)"
   ]
  },
  {
   "cell_type": "markdown",
   "metadata": {},
   "source": [
    "Run the OED files though the Oasis Financial Module and output the losses by item at eacg inuring level."
   ]
  },
  {
   "cell_type": "code",
   "execution_count": 8,
   "metadata": {},
   "outputs": [
    {
     "name": "stdout",
     "output_type": "stream",
     "text": [
      "Direct layer loss\n",
      "+----+-------------+------------------+-------------------+--------------------+------------+---------+------------+-----------+\n",
      "|    |   policy_id |   account_number |   location_number |   coverage_type_id |   peril_id |     tiv |   loss_gul |   loss_il |\n",
      "|----+-------------+------------------+-------------------+--------------------+------------+---------+------------+-----------|\n",
      "|  0 |        1.00 |             1.00 |              1.00 |               1.00 |       1.00 | 1000.00 |    1000.00 |     50.00 |\n",
      "|  1 |        1.00 |             1.00 |              1.00 |               3.00 |       1.00 |  500.00 |     500.00 |     25.00 |\n",
      "|  2 |        1.00 |             1.00 |              1.00 |               4.00 |       1.00 |  500.00 |     500.00 |     25.00 |\n",
      "|  3 |        1.00 |             1.00 |              2.00 |               1.00 |       1.00 | 1000.00 |    1000.00 |     50.00 |\n",
      "|  4 |        1.00 |             1.00 |              2.00 |               3.00 |       1.00 |  500.00 |     500.00 |     25.00 |\n",
      "|  5 |        1.00 |             1.00 |              2.00 |               4.00 |       1.00 |  500.00 |     500.00 |     25.00 |\n",
      "|  6 |        2.00 |             2.00 |              3.00 |               1.00 |       1.00 | 1000.00 |    1000.00 |     50.00 |\n",
      "|  7 |        2.00 |             2.00 |              3.00 |               3.00 |       1.00 |  500.00 |     500.00 |     25.00 |\n",
      "|  8 |        2.00 |             2.00 |              3.00 |               4.00 |       1.00 |  500.00 |     500.00 |     25.00 |\n",
      "|  9 |        2.00 |             2.00 |              4.00 |               1.00 |       1.00 | 1000.00 |    1000.00 |     50.00 |\n",
      "| 10 |        2.00 |             2.00 |              4.00 |               3.00 |       1.00 |  500.00 |     500.00 |     25.00 |\n",
      "| 11 |        2.00 |             2.00 |              4.00 |               4.00 |       1.00 |  500.00 |     500.00 |     25.00 |\n",
      "+----+-------------+------------------+-------------------+--------------------+------------+---------+------------+-----------+\n",
      "\n",
      "\n",
      "1\n",
      "Reinsurance - first inuring layer\n",
      "+----+-------------+------------------+-------------------+--------------------+------------+---------+------------+------------+\n",
      "|    |   policy_id |   account_number |   location_number |   coverage_type_id |   peril_id |     tiv |   loss_pre |   loss_net |\n",
      "|----+-------------+------------------+-------------------+--------------------+------------+---------+------------+------------|\n",
      "|  0 |        1.00 |             1.00 |              1.00 |               1.00 |       1.00 | 1000.00 |      50.00 |      27.50 |\n",
      "|  1 |        1.00 |             1.00 |              1.00 |               3.00 |       1.00 |  500.00 |      25.00 |      13.75 |\n",
      "|  2 |        1.00 |             1.00 |              1.00 |               4.00 |       1.00 |  500.00 |      25.00 |      13.75 |\n",
      "|  3 |        1.00 |             1.00 |              2.00 |               1.00 |       1.00 | 1000.00 |      50.00 |      50.00 |\n",
      "|  4 |        1.00 |             1.00 |              2.00 |               3.00 |       1.00 |  500.00 |      25.00 |      25.00 |\n",
      "|  5 |        1.00 |             1.00 |              2.00 |               4.00 |       1.00 |  500.00 |      25.00 |      25.00 |\n",
      "|  6 |        2.00 |             2.00 |              3.00 |               1.00 |       1.00 | 1000.00 |      50.00 |      50.00 |\n",
      "|  7 |        2.00 |             2.00 |              3.00 |               3.00 |       1.00 |  500.00 |      25.00 |      25.00 |\n",
      "|  8 |        2.00 |             2.00 |              3.00 |               4.00 |       1.00 |  500.00 |      25.00 |      25.00 |\n",
      "|  9 |        2.00 |             2.00 |              4.00 |               1.00 |       1.00 | 1000.00 |      50.00 |      50.00 |\n",
      "| 10 |        2.00 |             2.00 |              4.00 |               3.00 |       1.00 |  500.00 |      25.00 |      25.00 |\n",
      "| 11 |        2.00 |             2.00 |              4.00 |               4.00 |       1.00 |  500.00 |      25.00 |      25.00 |\n",
      "+----+-------------+------------------+-------------------+--------------------+------------+---------+------------+------------+\n",
      "\n",
      "\n",
      "2\n",
      "Reinsurance - first inuring layer\n",
      "+----+-------------+------------------+-------------------+--------------------+------------+---------+------------+------------+\n",
      "|    |   policy_id |   account_number |   location_number |   coverage_type_id |   peril_id |     tiv |   loss_pre |   loss_net |\n",
      "|----+-------------+------------------+-------------------+--------------------+------------+---------+------------+------------|\n",
      "|  0 |        1.00 |             1.00 |              1.00 |               1.00 |       1.00 | 1000.00 |      27.50 |      26.96 |\n",
      "|  1 |        1.00 |             1.00 |              1.00 |               3.00 |       1.00 |  500.00 |      13.75 |      13.48 |\n",
      "|  2 |        1.00 |             1.00 |              1.00 |               4.00 |       1.00 |  500.00 |      13.75 |      13.48 |\n",
      "|  3 |        1.00 |             1.00 |              2.00 |               1.00 |       1.00 | 1000.00 |      50.00 |      49.01 |\n",
      "|  4 |        1.00 |             1.00 |              2.00 |               3.00 |       1.00 |  500.00 |      25.00 |      24.51 |\n",
      "|  5 |        1.00 |             1.00 |              2.00 |               4.00 |       1.00 |  500.00 |      25.00 |      24.51 |\n",
      "|  6 |        2.00 |             2.00 |              3.00 |               1.00 |       1.00 | 1000.00 |      50.00 |      49.01 |\n",
      "|  7 |        2.00 |             2.00 |              3.00 |               3.00 |       1.00 |  500.00 |      25.00 |      24.51 |\n",
      "|  8 |        2.00 |             2.00 |              3.00 |               4.00 |       1.00 |  500.00 |      25.00 |      24.51 |\n",
      "|  9 |        2.00 |             2.00 |              4.00 |               1.00 |       1.00 | 1000.00 |      50.00 |      49.01 |\n",
      "| 10 |        2.00 |             2.00 |              4.00 |               3.00 |       1.00 |  500.00 |      25.00 |      24.51 |\n",
      "| 11 |        2.00 |             2.00 |              4.00 |               4.00 |       1.00 |  500.00 |      25.00 |      24.51 |\n",
      "+----+-------------+------------------+-------------------+--------------------+------------+---------+------------+------------+\n",
      "\n",
      "\n"
     ]
    }
   ],
   "source": [
    "reinsurance_tester.run_test('test', account_df, location_df, ri_info_df, ri_scope_df, 1.0)"
   ]
  }
 ],
 "metadata": {
  "kernelspec": {
   "display_name": "ReinsuranceTestTool",
   "language": "python",
   "name": "reinsurancetesttool"
  },
  "language_info": {
   "codemirror_mode": {
    "name": "ipython",
    "version": 3
   },
   "file_extension": ".py",
   "mimetype": "text/x-python",
   "name": "python",
   "nbconvert_exporter": "python",
   "pygments_lexer": "ipython3",
   "version": "3.5.2"
  }
 },
 "nbformat": 4,
 "nbformat_minor": 2
}
