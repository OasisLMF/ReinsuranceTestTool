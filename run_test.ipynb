{
 "cells": [
  {
   "cell_type": "code",
   "execution_count": 2,
   "metadata": {},
   "outputs": [],
   "source": [
    "import ri_tests_oed"
   ]
  },
  {
   "cell_type": "code",
   "execution_count": 4,
   "metadata": {},
   "outputs": [
    {
     "name": "stdout",
     "output_type": "stream",
     "text": [
      "Direct layer loss\n",
      "+----+-------------+------------------+-------------------+--------------------+------------+---------+------------+-----------+\n",
      "|    |   policy_id |   account_number |   location_number |   coverage_type_id |   peril_id |     tiv |   loss_gul |   loss_il |\n",
      "|----+-------------+------------------+-------------------+--------------------+------------+---------+------------+-----------|\n",
      "|  0 |        1.00 |             1.00 |              1.00 |               1.00 |       1.00 | 1000.00 |    1000.00 |     50.00 |\n",
      "|  1 |        1.00 |             1.00 |              1.00 |               3.00 |       1.00 |  500.00 |     500.00 |     25.00 |\n",
      "|  2 |        1.00 |             1.00 |              1.00 |               4.00 |       1.00 |  500.00 |     500.00 |     25.00 |\n",
      "|  3 |        1.00 |             1.00 |              2.00 |               1.00 |       1.00 | 1000.00 |    1000.00 |     50.00 |\n",
      "|  4 |        1.00 |             1.00 |              2.00 |               3.00 |       1.00 |  500.00 |     500.00 |     25.00 |\n",
      "|  5 |        1.00 |             1.00 |              2.00 |               4.00 |       1.00 |  500.00 |     500.00 |     25.00 |\n",
      "|  6 |        2.00 |             2.00 |              3.00 |               1.00 |       1.00 | 1000.00 |    1000.00 |     50.00 |\n",
      "|  7 |        2.00 |             2.00 |              3.00 |               3.00 |       1.00 |  500.00 |     500.00 |     25.00 |\n",
      "|  8 |        2.00 |             2.00 |              3.00 |               4.00 |       1.00 |  500.00 |     500.00 |     25.00 |\n",
      "|  9 |        2.00 |             2.00 |              4.00 |               1.00 |       1.00 | 1000.00 |    1000.00 |     50.00 |\n",
      "| 10 |        2.00 |             2.00 |              4.00 |               3.00 |       1.00 |  500.00 |     500.00 |     25.00 |\n",
      "| 11 |        2.00 |             2.00 |              4.00 |               4.00 |       1.00 |  500.00 |     500.00 |     25.00 |\n",
      "+----+-------------+------------------+-------------------+--------------------+------------+---------+------------+-----------+\n",
      "\n",
      "\n",
      "1\n",
      "Reinsurance - first inuring layer\n",
      "+----+-------------+------------------+-------------------+--------------------+------------+---------+------------+------------+\n",
      "|    |   policy_id |   account_number |   location_number |   coverage_type_id |   peril_id |     tiv |   loss_pre |   loss_net |\n",
      "|----+-------------+------------------+-------------------+--------------------+------------+---------+------------+------------|\n",
      "|  0 |        1.00 |             1.00 |              1.00 |               1.00 |       1.00 | 1000.00 |      50.00 |      27.50 |\n",
      "|  1 |        1.00 |             1.00 |              1.00 |               3.00 |       1.00 |  500.00 |      25.00 |      13.75 |\n",
      "|  2 |        1.00 |             1.00 |              1.00 |               4.00 |       1.00 |  500.00 |      25.00 |      13.75 |\n",
      "|  3 |        1.00 |             1.00 |              2.00 |               1.00 |       1.00 | 1000.00 |      50.00 |      50.00 |\n",
      "|  4 |        1.00 |             1.00 |              2.00 |               3.00 |       1.00 |  500.00 |      25.00 |      25.00 |\n",
      "|  5 |        1.00 |             1.00 |              2.00 |               4.00 |       1.00 |  500.00 |      25.00 |      25.00 |\n",
      "|  6 |        2.00 |             2.00 |              3.00 |               1.00 |       1.00 | 1000.00 |      50.00 |      50.00 |\n",
      "|  7 |        2.00 |             2.00 |              3.00 |               3.00 |       1.00 |  500.00 |      25.00 |      25.00 |\n",
      "|  8 |        2.00 |             2.00 |              3.00 |               4.00 |       1.00 |  500.00 |      25.00 |      25.00 |\n",
      "|  9 |        2.00 |             2.00 |              4.00 |               1.00 |       1.00 | 1000.00 |      50.00 |      50.00 |\n",
      "| 10 |        2.00 |             2.00 |              4.00 |               3.00 |       1.00 |  500.00 |      25.00 |      25.00 |\n",
      "| 11 |        2.00 |             2.00 |              4.00 |               4.00 |       1.00 |  500.00 |      25.00 |      25.00 |\n",
      "+----+-------------+------------------+-------------------+--------------------+------------+---------+------------+------------+\n",
      "\n",
      "\n",
      "2\n",
      "Reinsurance - first inuring layer\n",
      "+----+-------------+------------------+-------------------+--------------------+------------+---------+------------+------------+\n",
      "|    |   policy_id |   account_number |   location_number |   coverage_type_id |   peril_id |     tiv |   loss_pre |   loss_net |\n",
      "|----+-------------+------------------+-------------------+--------------------+------------+---------+------------+------------|\n",
      "|  0 |        1.00 |             1.00 |              1.00 |               1.00 |       1.00 | 1000.00 |      27.50 |      26.96 |\n",
      "|  1 |        1.00 |             1.00 |              1.00 |               3.00 |       1.00 |  500.00 |      13.75 |      13.48 |\n",
      "|  2 |        1.00 |             1.00 |              1.00 |               4.00 |       1.00 |  500.00 |      13.75 |      13.48 |\n",
      "|  3 |        1.00 |             1.00 |              2.00 |               1.00 |       1.00 | 1000.00 |      50.00 |      49.01 |\n",
      "|  4 |        1.00 |             1.00 |              2.00 |               3.00 |       1.00 |  500.00 |      25.00 |      24.51 |\n",
      "|  5 |        1.00 |             1.00 |              2.00 |               4.00 |       1.00 |  500.00 |      25.00 |      24.51 |\n",
      "|  6 |        2.00 |             2.00 |              3.00 |               1.00 |       1.00 | 1000.00 |      50.00 |      49.01 |\n",
      "|  7 |        2.00 |             2.00 |              3.00 |               3.00 |       1.00 |  500.00 |      25.00 |      24.51 |\n",
      "|  8 |        2.00 |             2.00 |              3.00 |               4.00 |       1.00 |  500.00 |      25.00 |      24.51 |\n",
      "|  9 |        2.00 |             2.00 |              4.00 |               1.00 |       1.00 | 1000.00 |      50.00 |      49.01 |\n",
      "| 10 |        2.00 |             2.00 |              4.00 |               3.00 |       1.00 |  500.00 |      25.00 |      24.51 |\n",
      "| 11 |        2.00 |             2.00 |              4.00 |               4.00 |       1.00 |  500.00 |      25.00 |      24.51 |\n",
      "+----+-------------+------------------+-------------------+--------------------+------------+---------+------------+------------+\n",
      "\n",
      "\n"
     ]
    }
   ],
   "source": [
    "ri_tests_oed.run_test('test', 'fm_23_oed', 1)"
   ]
  },
  {
   "cell_type": "code",
   "execution_count": 5,
   "metadata": {},
   "outputs": [],
   "source": [
    "import qgrid"
   ]
  },
  {
   "cell_type": "code",
   "execution_count": 10,
   "metadata": {},
   "outputs": [
    {
     "data": {
      "application/vnd.jupyter.widget-view+json": {
       "model_id": "f88cc5d387484e46b9fb67aebdf2c0a7",
       "version_major": 2,
       "version_minor": 0
      },
      "text/html": [
       "<p>Failed to display Jupyter Widget of type <code>QgridWidget</code>.</p>\n",
       "<p>\n",
       "  If you're reading this message in the Jupyter Notebook or JupyterLab Notebook, it may mean\n",
       "  that the widgets JavaScript is still loading. If this message persists, it\n",
       "  likely means that the widgets JavaScript library is either not installed or\n",
       "  not enabled. See the <a href=\"https://ipywidgets.readthedocs.io/en/stable/user_install.html\">Jupyter\n",
       "  Widgets Documentation</a> for setup instructions.\n",
       "</p>\n",
       "<p>\n",
       "  If you're reading this message in another frontend (for example, a static\n",
       "  rendering on GitHub or <a href=\"https://nbviewer.jupyter.org/\">NBViewer</a>),\n",
       "  it may mean that your frontend doesn't currently support widgets.\n",
       "</p>\n"
      ],
      "text/plain": [
       "QgridWidget(grid_options={'highlightSelectedRow': True, 'fullWidthRows': True, 'rowHeight': 28, 'enableColumnReorder': False, 'filterable': True, 'sortable': True, 'enableTextSelectionOnCells': True, 'editable': True, 'explicitInitialization': True, 'minVisibleRows': 8, 'autoEdit': False, 'syncColumnCellResize': True, 'maxVisibleRows': 15, 'defaultColumnWidth': 150, 'forceFitColumns': True, 'highlightSelectedCell': False}, precision=5, show_toolbar=True)"
      ]
     },
     "metadata": {},
     "output_type": "display_data"
    }
   ],
   "source": [
    "import pandas as pd\n",
    "df = pd.DataFrame()\n",
    "\n",
    "qgrid_widget = qgrid.show_grid(df, show_toolbar=True)\n",
    "qgrid_widget"
   ]
  },
  {
   "cell_type": "code",
   "execution_count": null,
   "metadata": {},
   "outputs": [],
   "source": []
  },
  {
   "cell_type": "code",
   "execution_count": null,
   "metadata": {},
   "outputs": [],
   "source": []
  }
 ],
 "metadata": {
  "kernelspec": {
   "display_name": "Python 2",
   "language": "python",
   "name": "python2"
  },
  "language_info": {
   "codemirror_mode": {
    "name": "ipython",
    "version": 2
   },
   "file_extension": ".py",
   "mimetype": "text/x-python",
   "name": "python",
   "nbconvert_exporter": "python",
   "pygments_lexer": "ipython2",
   "version": "2.7.12"
  }
 },
 "nbformat": 4,
 "nbformat_minor": 2
}
