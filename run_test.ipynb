{
 "cells": [
  {
   "cell_type": "markdown",
   "metadata": {},
   "source": [
    "# Oasis Reinsurance Test Tool v0.6\n",
    "\n",
    "This notebook allows example reinsurance structures to be input in OED format and ran against the development version of the Oasis finanical engine. "
   ]
  },
  {
   "cell_type": "markdown",
   "metadata": {},
   "source": [
    "## Included\n",
    "* Basic direct insurance modelling (not the complete engine included in Flamingo)\n",
    "    * Buildings, Other buildings contents and BI\n",
    "    * Blanket limit\n",
    "    * Blanket deductible\n",
    "    * Site limit\n",
    "    * Site deductible \n",
    "* FAC treaties\n",
    "* Quota share\n",
    "* Surplus share\n",
    "* Per-risk\n",
    "* Cat XL treaties\n",
    "\n",
    "## Not included\n",
    "* Attachement basis\n",
    "* Aggregate terms\n",
    "* Multiple portfolios in a single set of input files"
   ]
  },
  {
   "cell_type": "markdown",
   "metadata": {},
   "source": [
    "## Test cases\n",
    "\n",
    "A selection of test cases can be found in the examples folder.\n",
    "\n",
    "* simple_loc_FAC: Single location level fac.\n",
    "* simple_pol_FAC: Single policy level fac.\n",
    "* simple_acc_FAC: Single account level fac.\n",
    "* multiple_FAC: Multiple facs at sameinuring level.\n",
    "* simple_QS: Single quota share with no risk limits.\n",
    "* loc_SS: Single surplus share at location level.\n",
    "* pol_SS: Single surplus share at location level.\n",
    "* acc_SS: Single surplus share at location level.\n",
    "* multiple_SS: Multiple surplus shares at same inuring level.\n",
    "* loc_limit_QS: Single quota share with location level risk limits.\n",
    "* pol_limit_QS: Single quota share with policy level risk limits.\n",
    "* acc_limit_QS: Single quota share with account level risk limits.\n",
    "* multiple_QS_1:  Two quota shares at same inuring level.\n",
    "* multiple_QS_2:  Two quota shares at different inuring levels.\n",
    "* simple_CAT_XL: Single cat XL.\n",
    "* multiple_CAT_XL: Two cat XLs at different inuring levels.\n"
   ]
  },
  {
   "cell_type": "markdown",
   "metadata": {},
   "source": [
    "## Input files \n",
    "\n",
    "Files must be named the following:\n",
    "* account.csv\n",
    "* location.csv\n",
    "* ri_info.csv\n",
    "* ri_scope.csv\n",
    "\n",
    "\n",
    "## Validation Rules\n",
    "* Risk levels cannot be mixed in a single reinsurance scope\n",
    "* Values in the scope file must link to rows in ACC/LOC exposure file set.\n",
    "* QS always has non-specific scope\n",
    "* SS always has specific scope\n",
    "* Reinsurance types cannot be combined in an inuring layer"
   ]
  },
  {
   "cell_type": "code",
   "execution_count": 4,
   "metadata": {},
   "outputs": [],
   "source": [
    "# Step 1 - notebook and Python setup\n",
    "%config IPCompleter.greedy=True\n",
    "\n",
    "# Standard Python libraries\n",
    "import io\n",
    "import json\n",
    "import os\n",
    "\n",
    "# 3rd party Python libraries\n",
    "import jupyter_helper\n",
    "import pandas as pd\n",
    "import six\n",
    "    \n",
    "# Oasis imports\n",
    "import oasislmf._data as static_data \n",
    "from oasislmf.exposures import oed\n",
    "from oasislmf.exposures.reinsurance_layer import (\n",
    "    create_xref_description,\n",
    "    generate_files_for_reinsurance,\n",
    ")\n",
    "from oasislmf.utils.deterministic_loss import (\n",
    "    generate_oasis_files,\n",
    "    generate_losses,\n",
    ")\n",
    "import reinsurance_tester"
   ]
  },
  {
   "cell_type": "code",
   "execution_count": null,
   "metadata": {},
   "outputs": [
    {
     "data": {
      "application/vnd.jupyter.widget-view+json": {
       "model_id": "994bb3130b57484a8aef57abc430e1e0",
       "version_major": 2,
       "version_minor": 0
      },
      "text/plain": [
       "FileUploadWidget(label='Upload .CSV file', _dom_classes=('widget_item', 'btn-group'))"
      ]
     },
     "metadata": {},
     "output_type": "display_data"
    }
   ],
   "source": [
    "jupyter_helper.file_uploader('examples/uploaded')"
   ]
  },
  {
   "cell_type": "code",
   "execution_count": null,
   "metadata": {},
   "outputs": [],
   "source": [
    "# Step 2 - load the OED for a worked example, in this case FM Test Case 23.\n",
    "# Note that only the currently used fields are shown unless show_all is set to True. \n",
    "oed_dir = os.path.abspath('examples/loc_SS')\n",
    "\n",
    "# Account file\n",
    "oed_account_file = os.path.join(oed_dir, \"account.csv\")\n",
    "if not os.path.exists(oed_account_file):\n",
    "    print(\"Path does not exist: {}\".format(oed_account_file))\n",
    "    exit(1)\n",
    "account_df = pd.read_csv(oed_account_file)\n",
    "\n",
    "# Location file\n",
    "oed_location_file = os.path.join(oed_dir, \"location.csv\")\n",
    "if not os.path.exists(oed_location_file):\n",
    "    print(\"Path does not exist: {}\".format(oed_location_file))\n",
    "    exit(1)\n",
    "location_df = pd.read_csv(oed_location_file)\n",
    "\n",
    "(\n",
    "    ri_info_df, \n",
    "    ri_scope_df, \n",
    "    do_reinsurance\n",
    ") = oed.load_oed_dfs(oed_dir, show_all=False)"
   ]
  },
  {
   "cell_type": "code",
   "execution_count": null,
   "metadata": {
    "scrolled": true
   },
   "outputs": [],
   "source": [
    "# Step 3 - view/edit the account data. \n",
    "account_grid = jupyter_helper.show_df(account_df)\n",
    "account_grid"
   ]
  },
  {
   "cell_type": "code",
   "execution_count": null,
   "metadata": {},
   "outputs": [],
   "source": [
    "# Step 4 - view/edit the location data.\n",
    "location_grid = jupyter_helper.show_df(location_df)\n",
    "location_grid"
   ]
  },
  {
   "cell_type": "code",
   "execution_count": null,
   "metadata": {},
   "outputs": [],
   "source": [
    "# Step 5 - view/edit the reinsurance info data.\n",
    "ri_info_grid = jupyter_helper.show_df(ri_info_df)\n",
    "ri_info_grid"
   ]
  },
  {
   "cell_type": "code",
   "execution_count": null,
   "metadata": {},
   "outputs": [],
   "source": [
    "# Step 6 - view/edit the reinsurance scope data.\n",
    "ri_scope_grid = jupyter_helper.show_df(ri_scope_df)\n",
    "ri_scope_grid"
   ]
  },
  {
   "cell_type": "code",
   "execution_count": null,
   "metadata": {},
   "outputs": [],
   "source": [
    "# Step 7 - Generate the direct Oasis files in `run_reinsurance/` via the MDK\n",
    "data_fp = static_data.__path__._path[0]\n",
    "with io.open(os.path.join(data_fp, 'canonical-oed-loc-profile.json'), 'r', encoding='utf-8') as f1:\n",
    "    with io.open(os.path.join(data_fp, 'canonical-oed-acc-profile.json'), 'r', encoding='utf-8') as f2:\n",
    "        with io.open(os.path.join(data_fp, 'fm-oed-agg-profile.json'), 'r', encoding='utf-8') as f3:\n",
    "                cep = json.load(f1)\n",
    "                cap = json.load(f2)\n",
    "                # Agg profile keys are strings, so str -> int conversion is required\n",
    "                fmap = {int(k):v for k, v in six.iteritems(json.load(f3))}            \n",
    "\n",
    "oasis_files =  generate_oasis_files(\n",
    "    os.path.abspath('run_reinsurance'),\n",
    "    oed_location_file,\n",
    "    os.path.join(data_fp, 'MappingMapToOED_CanLocA.xslt'),\n",
    "    oed_account_file,\n",
    "    os.path.join(data_fp, 'MappingMapToOED_CanAccA.xslt'),\n",
    "    cep,\n",
    "    cap,\n",
    "    fmap    \n",
    ")"
   ]
  },
  {
   "cell_type": "code",
   "execution_count": null,
   "metadata": {},
   "outputs": [],
   "source": [
    "# Step 8 - pick up any edits in the grid before running the analysis\n",
    "account_df = account_grid.get_changed_df()\n",
    "location_df = location_grid.get_changed_df()\n",
    "ri_info_df = ri_info_grid.get_changed_df()\n",
    "ri_scope_df = ri_scope_grid.get_changed_df()"
   ]
  },
  {
   "cell_type": "code",
   "execution_count": null,
   "metadata": {},
   "outputs": [],
   "source": [
    "# Step 9 - run the OED data though the Oasis Financial Module and output the losses by item at each inuring level.\n",
    "net_losses = reinsurance_tester.run_test('run_reinsurance', account_df, location_df, ri_info_df, ri_scope_df, loss_factor=1.0, do_reinsurance=do_reinsurance)\n",
    "print(\"Ran {} inuring layers\".format(len(net_losses) - 1))\n",
    "print(\"Losses for:\")\n",
    "for key in net_losses.keys():\n",
    "    print(\"\\t{}\".format(key))"
   ]
  },
  {
   "cell_type": "code",
   "execution_count": null,
   "metadata": {},
   "outputs": [],
   "source": [
    "# Step 10 - view the direct losses.\n",
    "key = 'Direct'\n",
    "net_losses[key]"
   ]
  },
  {
   "cell_type": "code",
   "execution_count": null,
   "metadata": {},
   "outputs": [],
   "source": [
    "# Step 11 - view the losses for the first inuring layer.\n",
    "key = 'Inuring priority:1 - Risk level:SEL'\n",
    "net_losses[key]"
   ]
  },
  {
   "cell_type": "markdown",
   "metadata": {},
   "source": [
    "## Optional Steps\n"
   ]
  },
  {
   "cell_type": "code",
   "execution_count": null,
   "metadata": {},
   "outputs": [],
   "source": [
    "#Automated testing on reinsurance examples\n",
    "!pytest -v tests/test_reinsurance.py"
   ]
  },
  {
   "cell_type": "code",
   "execution_count": null,
   "metadata": {},
   "outputs": [],
   "source": [
    "# Write outputs to CSV for download.\n",
    "for (description, net_loss) in net_losses.items():\n",
    "    filename = \"output_{}.csv\".format(description.replace(' ', '_'))\n",
    "    net_loss.to_csv(filename, index=False)"
   ]
  }
 ],
 "metadata": {
  "kernelspec": {
   "display_name": "Python 3",
   "language": "python",
   "name": "python3"
  },
  "language_info": {
   "codemirror_mode": {
    "name": "ipython",
    "version": 3
   },
   "file_extension": ".py",
   "mimetype": "text/x-python",
   "name": "python",
   "nbconvert_exporter": "python",
   "pygments_lexer": "ipython3",
   "version": "3.6.2"
  }
 },
 "nbformat": 4,
 "nbformat_minor": 2
}
