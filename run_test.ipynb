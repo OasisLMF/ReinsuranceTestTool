{
 "cells": [
  {
   "cell_type": "markdown",
   "metadata": {},
   "source": [
    "# Oasis Reinsurance Test Tool v0.2\n",
    "\n",
    "This notebook allows example reinsurance structures to be input in OED format and ran against the development version of the Oasis finanical engine. "
   ]
  },
  {
   "cell_type": "markdown",
   "metadata": {},
   "source": [
    "## Included\n",
    "* Basic direct insurance modelling (not the complete engine included in Flamingo)\n",
    "    * Buildings, Other buildings contents and BI\n",
    "    * Blanket limit\n",
    "    * Blanket deductible\n",
    "    * Site limit\n",
    "    * Site deductible \n",
    "* FAC treaties\n",
    "* Quota share\n",
    "* Surplus share\n",
    "* Per-risk\n",
    "* Cat XL treaties\n",
    "\n",
    "## Not included\n",
    "* Attachement basis\n",
    "* Aggregate terms\n",
    "* Multiple portfolios in a single set of input files"
   ]
  },
  {
   "cell_type": "markdown",
   "metadata": {},
   "source": [
    "## Test cases\n",
    "\n",
    "A selection of test cases can be found in the examples folder.\n",
    "\n",
    "* simple_loc_FAC: Single location level fac.\n",
    "* simple_pol_FAC: Single policy level fac.\n",
    "* simple_acc_FAC: Single account level fac.\n",
    "* multiple_FAC: Multiple facs at sameinuring level.\n",
    "* simple_QS: Single quota share with no risk limits.\n",
    "* loc_SS: Single surplus share at location level.\n",
    "* pol_SS: Single surplus share at location level.\n",
    "* acc_SS: Single surplus share at location level.\n",
    "* multiple_SS: Multiple surplus shares at same inuring level.\n",
    "* loc_limit_QS: Single quota share with location level risk limits.\n",
    "* pol_limit_QS: Single quota share with policy level risk limits.\n",
    "* acc_limit_QS: Single quota share with account level risk limits.\n",
    "* multiple_QS_1:  Two quota shares at same inuring level.\n",
    "* multiple_QS_2:  Two quota shares at different inuring levels.\n",
    "* simple_CAT_XL: Single cat XL.\n",
    "* multiple_CAT_XL: Two cat XLs at different inuring levels.\n"
   ]
  },
  {
   "cell_type": "code",
   "execution_count": null,
   "metadata": {},
   "outputs": [],
   "source": [
    "# Step 1 - general Python code set up\n",
    "%config IPCompleter.greedy=True\n",
    "import reinsurance_tester\n",
    "import jupyter_helper\n",
    "import pandas as pd"
   ]
  },
  {
   "cell_type": "code",
   "execution_count": null,
   "metadata": {},
   "outputs": [],
   "source": [
    "# Step 2 - load the OED for a worked example, in this case FM Test Case 23.\n",
    "# Note that only the currently used fields are shown unless show_all is set to True. \n",
    "(account_df, location_df, ri_info_df, ri_scope_df, do_reinsurance) = reinsurance_tester.load_oed_dfs('examples/simple_QS', show_all=False)"
   ]
  },
  {
   "cell_type": "code",
   "execution_count": null,
   "metadata": {
    "scrolled": true
   },
   "outputs": [],
   "source": [
    "# Step 3 - view/edit the account data. \n",
    "account_grid = jupyter_helper.show_df(account_df)\n",
    "account_grid"
   ]
  },
  {
   "cell_type": "code",
   "execution_count": null,
   "metadata": {},
   "outputs": [],
   "source": [
    "# Step 4 - view/edit the location data.\n",
    "location_grid = jupyter_helper.show_df(location_df)\n",
    "location_grid"
   ]
  },
  {
   "cell_type": "code",
   "execution_count": null,
   "metadata": {},
   "outputs": [],
   "source": [
    "# Step 5 - view/edit the reinsurance info data.\n",
    "ri_info_grid = jupyter_helper.show_df(ri_info_df)\n",
    "ri_info_grid"
   ]
  },
  {
   "cell_type": "code",
   "execution_count": null,
   "metadata": {},
   "outputs": [],
   "source": [
    "# Step 6 - view/edit the reinsurance scope data.\n",
    "ri_scope_grid = jupyter_helper.show_df(ri_scope_df)\n",
    "ri_scope_grid"
   ]
  },
  {
   "cell_type": "code",
   "execution_count": null,
   "metadata": {},
   "outputs": [],
   "source": [
    "# Step 7 - pick up any edits in the grid before running the analysis\n",
    "account_df = account_grid.get_changed_df()\n",
    "location_df = location_grid.get_changed_df()\n",
    "ri_info_df = ri_info_grid.get_changed_df()\n",
    "ri_scope_df = ri_scope_grid.get_changed_df()"
   ]
  },
  {
   "cell_type": "code",
   "execution_count": null,
   "metadata": {},
   "outputs": [],
   "source": [
    "# Step 8 - run the OED data though the Oasis Financial Module and output the losses by item at each inuring level.\n",
    "net_losses = reinsurance_tester.run_test('test', account_df, location_df, ri_info_df, ri_scope_df, loss_factor=1.0, do_reinsurance=do_reinsurance)\n",
    "print(\"Ran {} inuring layers\".format(len(net_losses) - 1))\n",
    "print(\"Losses for:\")\n",
    "for key in net_losses.keys():\n",
    "    print(\"\\t{}\".format(key))"
   ]
  },
  {
   "cell_type": "code",
   "execution_count": null,
   "metadata": {},
   "outputs": [],
   "source": [
    "# Step 9 - view the direct losses.\n",
    "key = 'Direct'\n",
    "net_losses[key]"
   ]
  },
  {
   "cell_type": "code",
   "execution_count": null,
   "metadata": {},
   "outputs": [],
   "source": [
    "# Step 10 - view the losses for the first inuring layer.\n",
    "key = 'Inuring priority:1 - Risk level:SEL'\n",
    "net_losses[key]"
   ]
  }
 ],
 "metadata": {
  "kernelspec": {
   "display_name": "ReinsuranceTestTool",
   "language": "python",
   "name": "reinsurancetesttool"
  },
  "language_info": {
   "codemirror_mode": {
    "name": "ipython",
    "version": 2
   },
   "file_extension": ".py",
   "mimetype": "text/x-python",
   "name": "python",
   "nbconvert_exporter": "python",
   "pygments_lexer": "ipython2",
   "version": "2.7.12"
  }
 },
 "nbformat": 4,
 "nbformat_minor": 2
}
