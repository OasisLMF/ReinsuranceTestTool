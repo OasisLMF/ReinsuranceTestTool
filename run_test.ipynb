{
 "cells": [
  {
   "cell_type": "markdown",
   "metadata": {},
   "source": [
    "# Oasis Reinsurance Test Tool v0.2\n",
    "\n",
    "This notebook allows example reinsurance structures to be input in OED format and ran against the development version of the Oasis finanical engine. "
   ]
  },
  {
   "cell_type": "markdown",
   "metadata": {},
   "source": [
    "## Included\n",
    "* Basic direct insurance modelling (not the complete engine included in Flamingo)\n",
    "    * Buildings, Other buildings contents and BI\n",
    "    * Blanket limit\n",
    "    * Blanket deductible\n",
    "    * Site limit\n",
    "    * Site deductible \n",
    "* FAC treaties\n",
    "* Quota share\n",
    "* Surplus share\n",
    "* Per-risk\n",
    "* Cat XL treaties\n",
    "\n",
    "## Not included\n",
    "* Attachement basis\n",
    "* Aggregate terms"
   ]
  },
  {
   "cell_type": "markdown",
   "metadata": {},
   "source": [
    "## Test cases\n",
    "\n",
    "A selection of test cases can be found in the examples folder.\n",
    "\n",
    "* simple_loc_FAC: Single location level fac.\n",
    "* simple_pol_FAC: Single policy level fac.\n",
    "* simple_acc_FAC: Single account level fac.\n",
    "* multiple_FAC: Multiple facs at sameinuring level.\n",
    "* simple_QS: Single quota share with no risk limits.\n",
    "* loc_SS: Single surplus share at location level.\n",
    "* pol_SS: Single surplus share at location level.\n",
    "* acc_SS: Single surplus share at location level.\n",
    "* multiple_SS: Single surplus share at same inuring level.\n",
    "* loc_limit_QS: Single quota share with location level risk limits.\n",
    "* pol_limit_QS: Single quota share with policy level risk limits.\n",
    "* acc_limit_QS: Single quota share with account level risk limits.\n",
    "* multiple_QS_1:  Two quota shares at same inuring level.\n",
    "* multiple_QS_2:  Two quota shares at different inuring levels.\n",
    "* simple_CAT_XL: Single cat XL.\n",
    "* multiple_CAT_XL: Two cat XLs at different inuring levels.\n"
   ]
  },
  {
   "cell_type": "code",
   "execution_count": 1,
   "metadata": {},
   "outputs": [],
   "source": [
    "# Step 1 - general Python code set up\n",
    "%config IPCompleter.greedy=True\n",
    "import reinsurance_tester\n",
    "import jupyter_helper\n",
    "import pandas as pd"
   ]
  },
  {
   "cell_type": "code",
   "execution_count": 2,
   "metadata": {},
   "outputs": [],
   "source": [
    "# Step 2 - load the OED for a worked example, in this case FM Test Case 23.\n",
    "# Note that only the currently used fields are shown unless show_all is set to True. \n",
    "(account_df, location_df, ri_info_df, ri_scope_df, do_reinsurance) = reinsurance_tester.load_oed_dfs('examples/simple_SS', show_all=False)"
   ]
  },
  {
   "cell_type": "code",
   "execution_count": 3,
   "metadata": {
    "scrolled": true
   },
   "outputs": [
    {
     "data": {
      "application/vnd.jupyter.widget-view+json": {
       "model_id": "a3427740cae540b6aa665d6e1f230b51",
       "version_major": 2,
       "version_minor": 0
      },
      "text/plain": [
       "UWdyaWRXaWRnZXQoZ3JpZF9vcHRpb25zPXsnaGlnaGxpZ2h0U2VsZWN0ZWRSb3cnOiBUcnVlLCAnZnVsbFdpZHRoUm93cyc6IFRydWUsICdyb3dIZWlnaHQnOiAyOCwgJ2VuYWJsZUNvbHVtblLigKY=\n"
      ]
     },
     "metadata": {},
     "output_type": "display_data"
    }
   ],
   "source": [
    "# Step 3 - view/edit the account data. \n",
    "account_grid = jupyter_helper.show_df(account_df)\n",
    "account_grid"
   ]
  },
  {
   "cell_type": "code",
   "execution_count": 4,
   "metadata": {},
   "outputs": [
    {
     "data": {
      "application/vnd.jupyter.widget-view+json": {
       "model_id": "ab4faf5d1e5248698a3a4d3d4c508816",
       "version_major": 2,
       "version_minor": 0
      },
      "text/plain": [
       "UWdyaWRXaWRnZXQoZ3JpZF9vcHRpb25zPXsnaGlnaGxpZ2h0U2VsZWN0ZWRSb3cnOiBUcnVlLCAnZnVsbFdpZHRoUm93cyc6IFRydWUsICdyb3dIZWlnaHQnOiAyOCwgJ2VuYWJsZUNvbHVtblLigKY=\n"
      ]
     },
     "metadata": {},
     "output_type": "display_data"
    }
   ],
   "source": [
    "# Step 4 - view/edit the location data.\n",
    "location_grid = jupyter_helper.show_df(location_df)\n",
    "location_grid"
   ]
  },
  {
   "cell_type": "code",
   "execution_count": 5,
   "metadata": {},
   "outputs": [
    {
     "data": {
      "application/vnd.jupyter.widget-view+json": {
       "model_id": "1cff71321c1e421ba6e55ff8be8186c7",
       "version_major": 2,
       "version_minor": 0
      },
      "text/plain": [
       "UWdyaWRXaWRnZXQoZ3JpZF9vcHRpb25zPXsnaGlnaGxpZ2h0U2VsZWN0ZWRSb3cnOiBUcnVlLCAnZnVsbFdpZHRoUm93cyc6IFRydWUsICdyb3dIZWlnaHQnOiAyOCwgJ2VuYWJsZUNvbHVtblLigKY=\n"
      ]
     },
     "metadata": {},
     "output_type": "display_data"
    }
   ],
   "source": [
    "# Step 5 - view/edit the reinsurance info data.\n",
    "ri_info_grid = jupyter_helper.show_df(ri_info_df)\n",
    "ri_info_grid"
   ]
  },
  {
   "cell_type": "code",
   "execution_count": 6,
   "metadata": {},
   "outputs": [
    {
     "data": {
      "application/vnd.jupyter.widget-view+json": {
       "model_id": "06a98db8b77b49e591dc8fb5f36d7d19",
       "version_major": 2,
       "version_minor": 0
      },
      "text/plain": [
       "UWdyaWRXaWRnZXQoZ3JpZF9vcHRpb25zPXsnaGlnaGxpZ2h0U2VsZWN0ZWRSb3cnOiBUcnVlLCAnZnVsbFdpZHRoUm93cyc6IFRydWUsICdyb3dIZWlnaHQnOiAyOCwgJ2VuYWJsZUNvbHVtblLigKY=\n"
      ]
     },
     "metadata": {},
     "output_type": "display_data"
    }
   ],
   "source": [
    "# Step 6 - view/edit the reinsurance scope data.\n",
    "ri_scope_grid = jupyter_helper.show_df(ri_scope_df)\n",
    "ri_scope_grid"
   ]
  },
  {
   "cell_type": "code",
   "execution_count": 12,
   "metadata": {},
   "outputs": [],
   "source": [
    "# Step 7 - pick up any edits in the grid before running the analysis\n",
    "account_df = account_grid.get_changed_df()\n",
    "location_df = location_grid.get_changed_df()\n",
    "ri_info_df = ri_info_grid.get_changed_df()\n",
    "ri_scope_df = ri_scope_grid.get_changed_df()"
   ]
  },
  {
   "cell_type": "code",
   "execution_count": 13,
   "metadata": {},
   "outputs": [
    {
     "name": "stdout",
     "output_type": "stream",
     "text": [
      "Ran 1 inuring layers\n",
      "Losses for:\n",
      "\tDirect\n",
      "\tInuring priority:1 - Risk level:LOC\n"
     ]
    }
   ],
   "source": [
    "# Step 8 - run the OED data though the Oasis Financial Module and output the losses by item at each inuring level.\n",
    "net_losses = reinsurance_tester.run_test('test', account_df, location_df, ri_info_df, ri_scope_df, loss_factor=1.0, do_reinsurance=do_reinsurance)\n",
    "print(\"Ran {} inuring layers\".format(len(net_losses) - 1))\n",
    "print(\"Losses for:\")\n",
    "for key in net_losses.keys():\n",
    "    print(\"\\t{}\".format(key))"
   ]
  },
  {
   "cell_type": "code",
   "execution_count": 14,
   "metadata": {},
   "outputs": [
    {
     "data": {
      "text/html": [
       "<div>\n",
       "<style scoped>\n",
       "    .dataframe tbody tr th:only-of-type {\n",
       "        vertical-align: middle;\n",
       "    }\n",
       "\n",
       "    .dataframe tbody tr th {\n",
       "        vertical-align: top;\n",
       "    }\n",
       "\n",
       "    .dataframe thead th {\n",
       "        text-align: right;\n",
       "    }\n",
       "</style>\n",
       "<table border=\"1\" class=\"dataframe\">\n",
       "  <thead>\n",
       "    <tr style=\"text-align: right;\">\n",
       "      <th></th>\n",
       "      <th>policy_number</th>\n",
       "      <th>account_number</th>\n",
       "      <th>location_number</th>\n",
       "      <th>coverage_type_id</th>\n",
       "      <th>peril_id</th>\n",
       "      <th>tiv</th>\n",
       "      <th>loss_gul</th>\n",
       "      <th>loss_il</th>\n",
       "    </tr>\n",
       "  </thead>\n",
       "  <tbody>\n",
       "    <tr>\n",
       "      <th>0</th>\n",
       "      <td>1</td>\n",
       "      <td>1</td>\n",
       "      <td>1</td>\n",
       "      <td>1</td>\n",
       "      <td>1</td>\n",
       "      <td>1000</td>\n",
       "      <td>1000.0</td>\n",
       "      <td>50.0</td>\n",
       "    </tr>\n",
       "    <tr>\n",
       "      <th>1</th>\n",
       "      <td>1</td>\n",
       "      <td>1</td>\n",
       "      <td>1</td>\n",
       "      <td>3</td>\n",
       "      <td>1</td>\n",
       "      <td>500</td>\n",
       "      <td>500.0</td>\n",
       "      <td>25.0</td>\n",
       "    </tr>\n",
       "    <tr>\n",
       "      <th>2</th>\n",
       "      <td>1</td>\n",
       "      <td>1</td>\n",
       "      <td>1</td>\n",
       "      <td>4</td>\n",
       "      <td>1</td>\n",
       "      <td>500</td>\n",
       "      <td>500.0</td>\n",
       "      <td>25.0</td>\n",
       "    </tr>\n",
       "    <tr>\n",
       "      <th>3</th>\n",
       "      <td>1</td>\n",
       "      <td>1</td>\n",
       "      <td>2</td>\n",
       "      <td>1</td>\n",
       "      <td>1</td>\n",
       "      <td>1000</td>\n",
       "      <td>1000.0</td>\n",
       "      <td>50.0</td>\n",
       "    </tr>\n",
       "    <tr>\n",
       "      <th>4</th>\n",
       "      <td>1</td>\n",
       "      <td>1</td>\n",
       "      <td>2</td>\n",
       "      <td>3</td>\n",
       "      <td>1</td>\n",
       "      <td>500</td>\n",
       "      <td>500.0</td>\n",
       "      <td>25.0</td>\n",
       "    </tr>\n",
       "    <tr>\n",
       "      <th>5</th>\n",
       "      <td>1</td>\n",
       "      <td>1</td>\n",
       "      <td>2</td>\n",
       "      <td>4</td>\n",
       "      <td>1</td>\n",
       "      <td>500</td>\n",
       "      <td>500.0</td>\n",
       "      <td>25.0</td>\n",
       "    </tr>\n",
       "    <tr>\n",
       "      <th>6</th>\n",
       "      <td>2</td>\n",
       "      <td>2</td>\n",
       "      <td>3</td>\n",
       "      <td>1</td>\n",
       "      <td>1</td>\n",
       "      <td>1000</td>\n",
       "      <td>1000.0</td>\n",
       "      <td>50.0</td>\n",
       "    </tr>\n",
       "    <tr>\n",
       "      <th>7</th>\n",
       "      <td>2</td>\n",
       "      <td>2</td>\n",
       "      <td>3</td>\n",
       "      <td>3</td>\n",
       "      <td>1</td>\n",
       "      <td>500</td>\n",
       "      <td>500.0</td>\n",
       "      <td>25.0</td>\n",
       "    </tr>\n",
       "    <tr>\n",
       "      <th>8</th>\n",
       "      <td>2</td>\n",
       "      <td>2</td>\n",
       "      <td>3</td>\n",
       "      <td>4</td>\n",
       "      <td>1</td>\n",
       "      <td>500</td>\n",
       "      <td>500.0</td>\n",
       "      <td>25.0</td>\n",
       "    </tr>\n",
       "    <tr>\n",
       "      <th>9</th>\n",
       "      <td>2</td>\n",
       "      <td>2</td>\n",
       "      <td>4</td>\n",
       "      <td>1</td>\n",
       "      <td>1</td>\n",
       "      <td>1000</td>\n",
       "      <td>1000.0</td>\n",
       "      <td>50.0</td>\n",
       "    </tr>\n",
       "    <tr>\n",
       "      <th>10</th>\n",
       "      <td>2</td>\n",
       "      <td>2</td>\n",
       "      <td>4</td>\n",
       "      <td>3</td>\n",
       "      <td>1</td>\n",
       "      <td>500</td>\n",
       "      <td>500.0</td>\n",
       "      <td>25.0</td>\n",
       "    </tr>\n",
       "    <tr>\n",
       "      <th>11</th>\n",
       "      <td>2</td>\n",
       "      <td>2</td>\n",
       "      <td>4</td>\n",
       "      <td>4</td>\n",
       "      <td>1</td>\n",
       "      <td>500</td>\n",
       "      <td>500.0</td>\n",
       "      <td>25.0</td>\n",
       "    </tr>\n",
       "  </tbody>\n",
       "</table>\n",
       "</div>"
      ],
      "text/plain": [
       "    policy_number  account_number  location_number  coverage_type_id  \\\n",
       "0               1               1                1                 1   \n",
       "1               1               1                1                 3   \n",
       "2               1               1                1                 4   \n",
       "3               1               1                2                 1   \n",
       "4               1               1                2                 3   \n",
       "5               1               1                2                 4   \n",
       "6               2               2                3                 1   \n",
       "7               2               2                3                 3   \n",
       "8               2               2                3                 4   \n",
       "9               2               2                4                 1   \n",
       "10              2               2                4                 3   \n",
       "11              2               2                4                 4   \n",
       "\n",
       "    peril_id   tiv  loss_gul  loss_il  \n",
       "0          1  1000    1000.0     50.0  \n",
       "1          1   500     500.0     25.0  \n",
       "2          1   500     500.0     25.0  \n",
       "3          1  1000    1000.0     50.0  \n",
       "4          1   500     500.0     25.0  \n",
       "5          1   500     500.0     25.0  \n",
       "6          1  1000    1000.0     50.0  \n",
       "7          1   500     500.0     25.0  \n",
       "8          1   500     500.0     25.0  \n",
       "9          1  1000    1000.0     50.0  \n",
       "10         1   500     500.0     25.0  \n",
       "11         1   500     500.0     25.0  "
      ]
     },
     "execution_count": 14,
     "metadata": {},
     "output_type": "execute_result"
    }
   ],
   "source": [
    "# Step 9 - view the direct losses.\n",
    "net_losses['Direct']"
   ]
  },
  {
   "cell_type": "code",
   "execution_count": 15,
   "metadata": {},
   "outputs": [
    {
     "data": {
      "text/html": [
       "<div>\n",
       "<style scoped>\n",
       "    .dataframe tbody tr th:only-of-type {\n",
       "        vertical-align: middle;\n",
       "    }\n",
       "\n",
       "    .dataframe tbody tr th {\n",
       "        vertical-align: top;\n",
       "    }\n",
       "\n",
       "    .dataframe thead th {\n",
       "        text-align: right;\n",
       "    }\n",
       "</style>\n",
       "<table border=\"1\" class=\"dataframe\">\n",
       "  <thead>\n",
       "    <tr style=\"text-align: right;\">\n",
       "      <th></th>\n",
       "      <th>policy_number</th>\n",
       "      <th>account_number</th>\n",
       "      <th>location_number</th>\n",
       "      <th>coverage_type_id</th>\n",
       "      <th>peril_id</th>\n",
       "      <th>tiv</th>\n",
       "      <th>loss_pre</th>\n",
       "      <th>loss_net</th>\n",
       "    </tr>\n",
       "  </thead>\n",
       "  <tbody>\n",
       "    <tr>\n",
       "      <th>0</th>\n",
       "      <td>1</td>\n",
       "      <td>1</td>\n",
       "      <td>1</td>\n",
       "      <td>1</td>\n",
       "      <td>1</td>\n",
       "      <td>1000</td>\n",
       "      <td>50.0</td>\n",
       "      <td>45.0</td>\n",
       "    </tr>\n",
       "    <tr>\n",
       "      <th>1</th>\n",
       "      <td>1</td>\n",
       "      <td>1</td>\n",
       "      <td>1</td>\n",
       "      <td>3</td>\n",
       "      <td>1</td>\n",
       "      <td>500</td>\n",
       "      <td>25.0</td>\n",
       "      <td>22.5</td>\n",
       "    </tr>\n",
       "    <tr>\n",
       "      <th>2</th>\n",
       "      <td>1</td>\n",
       "      <td>1</td>\n",
       "      <td>1</td>\n",
       "      <td>4</td>\n",
       "      <td>1</td>\n",
       "      <td>500</td>\n",
       "      <td>25.0</td>\n",
       "      <td>22.5</td>\n",
       "    </tr>\n",
       "    <tr>\n",
       "      <th>3</th>\n",
       "      <td>1</td>\n",
       "      <td>1</td>\n",
       "      <td>2</td>\n",
       "      <td>1</td>\n",
       "      <td>1</td>\n",
       "      <td>1000</td>\n",
       "      <td>50.0</td>\n",
       "      <td>45.0</td>\n",
       "    </tr>\n",
       "    <tr>\n",
       "      <th>4</th>\n",
       "      <td>1</td>\n",
       "      <td>1</td>\n",
       "      <td>2</td>\n",
       "      <td>3</td>\n",
       "      <td>1</td>\n",
       "      <td>500</td>\n",
       "      <td>25.0</td>\n",
       "      <td>22.5</td>\n",
       "    </tr>\n",
       "    <tr>\n",
       "      <th>5</th>\n",
       "      <td>1</td>\n",
       "      <td>1</td>\n",
       "      <td>2</td>\n",
       "      <td>4</td>\n",
       "      <td>1</td>\n",
       "      <td>500</td>\n",
       "      <td>25.0</td>\n",
       "      <td>22.5</td>\n",
       "    </tr>\n",
       "    <tr>\n",
       "      <th>6</th>\n",
       "      <td>2</td>\n",
       "      <td>2</td>\n",
       "      <td>3</td>\n",
       "      <td>1</td>\n",
       "      <td>1</td>\n",
       "      <td>1000</td>\n",
       "      <td>50.0</td>\n",
       "      <td>45.0</td>\n",
       "    </tr>\n",
       "    <tr>\n",
       "      <th>7</th>\n",
       "      <td>2</td>\n",
       "      <td>2</td>\n",
       "      <td>3</td>\n",
       "      <td>3</td>\n",
       "      <td>1</td>\n",
       "      <td>500</td>\n",
       "      <td>25.0</td>\n",
       "      <td>22.5</td>\n",
       "    </tr>\n",
       "    <tr>\n",
       "      <th>8</th>\n",
       "      <td>2</td>\n",
       "      <td>2</td>\n",
       "      <td>3</td>\n",
       "      <td>4</td>\n",
       "      <td>1</td>\n",
       "      <td>500</td>\n",
       "      <td>25.0</td>\n",
       "      <td>22.5</td>\n",
       "    </tr>\n",
       "    <tr>\n",
       "      <th>9</th>\n",
       "      <td>2</td>\n",
       "      <td>2</td>\n",
       "      <td>4</td>\n",
       "      <td>1</td>\n",
       "      <td>1</td>\n",
       "      <td>1000</td>\n",
       "      <td>50.0</td>\n",
       "      <td>50.0</td>\n",
       "    </tr>\n",
       "    <tr>\n",
       "      <th>10</th>\n",
       "      <td>2</td>\n",
       "      <td>2</td>\n",
       "      <td>4</td>\n",
       "      <td>3</td>\n",
       "      <td>1</td>\n",
       "      <td>500</td>\n",
       "      <td>25.0</td>\n",
       "      <td>25.0</td>\n",
       "    </tr>\n",
       "    <tr>\n",
       "      <th>11</th>\n",
       "      <td>2</td>\n",
       "      <td>2</td>\n",
       "      <td>4</td>\n",
       "      <td>4</td>\n",
       "      <td>1</td>\n",
       "      <td>500</td>\n",
       "      <td>25.0</td>\n",
       "      <td>25.0</td>\n",
       "    </tr>\n",
       "  </tbody>\n",
       "</table>\n",
       "</div>"
      ],
      "text/plain": [
       "    policy_number  account_number  location_number  coverage_type_id  \\\n",
       "0               1               1                1                 1   \n",
       "1               1               1                1                 3   \n",
       "2               1               1                1                 4   \n",
       "3               1               1                2                 1   \n",
       "4               1               1                2                 3   \n",
       "5               1               1                2                 4   \n",
       "6               2               2                3                 1   \n",
       "7               2               2                3                 3   \n",
       "8               2               2                3                 4   \n",
       "9               2               2                4                 1   \n",
       "10              2               2                4                 3   \n",
       "11              2               2                4                 4   \n",
       "\n",
       "    peril_id   tiv  loss_pre  loss_net  \n",
       "0          1  1000      50.0      45.0  \n",
       "1          1   500      25.0      22.5  \n",
       "2          1   500      25.0      22.5  \n",
       "3          1  1000      50.0      45.0  \n",
       "4          1   500      25.0      22.5  \n",
       "5          1   500      25.0      22.5  \n",
       "6          1  1000      50.0      45.0  \n",
       "7          1   500      25.0      22.5  \n",
       "8          1   500      25.0      22.5  \n",
       "9          1  1000      50.0      50.0  \n",
       "10         1   500      25.0      25.0  \n",
       "11         1   500      25.0      25.0  "
      ]
     },
     "execution_count": 15,
     "metadata": {},
     "output_type": "execute_result"
    }
   ],
   "source": [
    "# Step 10 - view the losses for the first inuring layer.\n",
    "net_losses['Inuring priority:1 - Risk level:LOC']"
   ]
  },
  {
   "cell_type": "code",
   "execution_count": 16,
   "metadata": {},
   "outputs": [
    {
     "ename": "KeyError",
     "evalue": "'Inuring priority:2 - Risk level:SEL'",
     "output_type": "error",
     "traceback": [
      "\u001b[0;31m---------------------------------------------------------------------------\u001b[0m",
      "\u001b[0;31mKeyError\u001b[0m                                  Traceback (most recent call last)",
      "\u001b[0;32m<ipython-input-16-345150a1e6b6>\u001b[0m in \u001b[0;36m<module>\u001b[0;34m()\u001b[0m\n\u001b[1;32m      1\u001b[0m \u001b[0;31m# Step 10 - view the losses for the first inuring layer.\u001b[0m\u001b[0;34m\u001b[0m\u001b[0;34m\u001b[0m\u001b[0m\n\u001b[0;32m----> 2\u001b[0;31m \u001b[0mnet_losses\u001b[0m\u001b[0;34m[\u001b[0m\u001b[0;34m'Inuring priority:2 - Risk level:SEL'\u001b[0m\u001b[0;34m]\u001b[0m\u001b[0;34m\u001b[0m\u001b[0m\n\u001b[0m",
      "\u001b[0;31mKeyError\u001b[0m: 'Inuring priority:2 - Risk level:SEL'"
     ]
    }
   ],
   "source": [
    "# Step 10 - view the losses for the first inuring layer.\n",
    "net_losses['Inuring priority:2 - Risk level:SEL']"
   ]
  },
  {
   "cell_type": "code",
   "execution_count": null,
   "metadata": {},
   "outputs": [],
   "source": []
  },
  {
   "cell_type": "code",
   "execution_count": null,
   "metadata": {},
   "outputs": [],
   "source": []
  }
 ],
 "metadata": {
  "kernelspec": {
   "display_name": "ReinsuranceTestTool",
   "language": "python",
   "name": "reinsurancetesttool"
  },
  "language_info": {
   "codemirror_mode": {
    "name": "ipython",
    "version": 2
   },
   "file_extension": ".py",
   "mimetype": "text/x-python",
   "name": "python",
   "nbconvert_exporter": "python",
   "pygments_lexer": "ipython2",
   "version": "2.7.12"
  }
 },
 "nbformat": 4,
 "nbformat_minor": 2
}
