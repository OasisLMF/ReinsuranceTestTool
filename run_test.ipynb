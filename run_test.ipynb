{
 "cells": [
  {
   "cell_type": "markdown",
   "metadata": {},
   "source": [
    "# Oasis Reinsurance Test Tool v0.7\n",
    "\n",
    "This notebook allows example reinsurance structures to be input in OED format and ran against the development version of the Oasis finanical engine. "
   ]
  },
  {
   "cell_type": "markdown",
   "metadata": {},
   "source": [
    "## Included\n",
    "* Basic direct insurance modelling (not the complete engine included in Flamingo)\n",
    "    * Buildings, Other buildings contents and BI\n",
    "    * Blanket limit\n",
    "    * Blanket deductible\n",
    "    * Site limit\n",
    "    * Site deductible \n",
    "* FAC treaties\n",
    "* Quota share\n",
    "* Surplus share\n",
    "* Per-risk\n",
    "* Cat XL treaties\n",
    "\n",
    "## Not included\n",
    "* Attachement basis\n",
    "* Aggregate terms\n",
    "* Multiple portfolios in a single set of input files"
   ]
  },
  {
   "cell_type": "markdown",
   "metadata": {},
   "source": [
    "## Test cases\n",
    "\n",
    "A selection of test cases can be found in the examples folder.\n",
    "\n",
    "* simple_loc_FAC: Single location level fac.\n",
    "* simple_pol_FAC: Single policy level fac.\n",
    "* simple_acc_FAC: Single account level fac.\n",
    "* multiple_FAC: Multiple facs at sameinuring level.\n",
    "* simple_QS: Single quota share with no risk limits.\n",
    "* loc_SS: Single surplus share at location level.\n",
    "* pol_SS: Single surplus share at location level.\n",
    "* acc_SS: Single surplus share at location level.\n",
    "* multiple_SS: Multiple surplus shares at same inuring level.\n",
    "* loc_limit_QS: Single quota share with location level risk limits.\n",
    "* pol_limit_QS: Single quota share with policy level risk limits.\n",
    "* acc_limit_QS: Single quota share with account level risk limits.\n",
    "* multiple_QS_1:  Two quota shares at same inuring level.\n",
    "* multiple_QS_2:  Two quota shares at different inuring levels.\n",
    "* simple_CAT_XL: Single cat XL.\n",
    "* multiple_CAT_XL: Two cat XLs at different inuring levels.\n"
   ]
  },
  {
   "cell_type": "markdown",
   "metadata": {},
   "source": [
    "## Input files \n",
    "\n",
    "Files must be named the following:\n",
    "* account.csv\n",
    "* location.csv\n",
    "* ri_info.csv\n",
    "* ri_scope.csv\n",
    "\n",
    "\n",
    "## Validation Rules\n",
    "* Risk levels cannot be mixed in a single reinsurance scope\n",
    "* Values in the scope file must link to rows in ACC/LOC exposure file set.\n",
    "* QS always has non-specific scope\n",
    "* SS always has specific scope\n",
    "* Reinsurance types cannot be combined in an inuring layer"
   ]
  },
  {
   "cell_type": "code",
   "execution_count": null,
   "metadata": {},
   "outputs": [],
   "source": [
    "# Notebook and Python \n",
    "%config IPCompleter.greedy=True\n",
    "\n",
    "# Standard Python libraries\n",
    "import io\n",
    "import json\n",
    "import os\n",
    "\n",
    "# 3rd party Python libraries\n",
    "import jupyter_helper\n",
    "import pandas as pd\n",
    "import six\n",
    "from backports.tempfile import TemporaryDirectory\n",
    "    \n",
    "# Oasis imports\n",
    "import oasislmf._data as static_data \n",
    "from oasislmf.model_preparation import oed\n",
    "from oasislmf.utils.deterministic_loss import (\n",
    "    generate_oasis_files,\n",
    "    generate_losses,\n",
    ")"
   ]
  },
  {
   "cell_type": "code",
   "execution_count": null,
   "metadata": {},
   "outputs": [],
   "source": [
    "jupyter_helper.file_uploader('examples/uploaded')\n",
    "!ls examples"
   ]
  },
  {
   "cell_type": "code",
   "execution_count": null,
   "metadata": {},
   "outputs": [],
   "source": [
    "# Load the OED for a worked example, in this case FM Test Case 23.\n",
    "\n",
    "# Note that only the currently used fields are shown unless show_all is set to True. \n",
    "oed_dir = os.path.abspath('examples_old/loc_SS')\n",
    "\n",
    "# Account file\n",
    "oed_account_file = os.path.join(oed_dir, \"account.csv\")\n",
    "if not os.path.exists(oed_account_file):\n",
    "    print(\"Path does not exist: {}\".format(oed_account_file))\n",
    "    exit(1)\n",
    "account_df = pd.read_csv(oed_account_file)\n",
    "\n",
    "# Location file\n",
    "oed_location_file = os.path.join(oed_dir, \"location.csv\")\n",
    "if not os.path.exists(oed_location_file):\n",
    "    print(\"Path does not exist: {}\".format(oed_location_file))\n",
    "    exit(1)\n",
    "location_df = pd.read_csv(oed_location_file)\n",
    "(\n",
    "    ri_info_df, \n",
    "    ri_scope_df, \n",
    "    do_reinsurance\n",
    ") = oed.load_oed_dfs(oed_dir, show_all=False)"
   ]
  },
  {
   "cell_type": "code",
   "execution_count": null,
   "metadata": {
    "scrolled": true
   },
   "outputs": [],
   "source": [
    "# View/edit the account data. \n",
    "account_grid = jupyter_helper.show_df(account_df)\n",
    "account_grid"
   ]
  },
  {
   "cell_type": "code",
   "execution_count": null,
   "metadata": {},
   "outputs": [],
   "source": [
    "# View/edit the location data.\n",
    "location_grid = jupyter_helper.show_df(location_df)\n",
    "location_grid"
   ]
  },
  {
   "cell_type": "code",
   "execution_count": null,
   "metadata": {},
   "outputs": [],
   "source": [
    "# View/edit the reinsurance info data.\n",
    "ri_info_grid = \"None\"\n",
    "if do_reinsurance:\n",
    "    ri_info_grid = jupyter_helper.show_df(ri_info_df)\n",
    "ri_info_grid"
   ]
  },
  {
   "cell_type": "code",
   "execution_count": null,
   "metadata": {
    "scrolled": true
   },
   "outputs": [],
   "source": [
    "# View/edit the reinsurance scope data.\n",
    "ri_scope_grid = \"None\"\n",
    "if do_reinsurance:\n",
    "    ri_scope_grid = jupyter_helper.show_df(ri_scope_df)\n",
    "ri_scope_grid"
   ]
  },
  {
   "cell_type": "code",
   "execution_count": null,
   "metadata": {},
   "outputs": [],
   "source": [
    "# Pick up any edits in the grid before running the analysis\n",
    "with TemporaryDirectory() as updated_files_dir, TemporaryDirectory() as output_dir:\n",
    "\n",
    "    account_df = account_grid.get_changed_df()\n",
    "    location_df = location_grid.get_changed_df()\n",
    "    if do_reinsurance:\n",
    "        ri_info_df = ri_info_grid.get_changed_df()\n",
    "        ri_scope_df = ri_scope_grid.get_changed_df()\n",
    "\n",
    "\n",
    "    account_df.to_csv(os.path.join(updated_files_dir, \"account.csv\"), index=False)\n",
    "    location_df.to_csv(os.path.join(updated_files_dir, \"location.csv\"), index=False)\n",
    "    if do_reinsurance:\n",
    "        ri_info_df.to_csv(os.path.join(updated_files_dir, \"ri_info.csv\"), index=False)\n",
    "        ri_scope_df.to_csv(os.path.join(updated_files_dir, \"ri_scope.csv\"), index=False)\n",
    "\n",
    "    data_fp = static_data.__path__._path[0]    \n",
    "    srcacctocan_trans_fp = os.path.join(data_fp, 'MappingMapToOED_CanAccA.xslt')\n",
    "    srcexptocan_trans_fp = os.path.join(data_fp, 'MappingMapToOED_CanLocA.xslt')\n",
    "\n",
    "    (ri_layers, xref_descriptions) = generate_oasis_files(\n",
    "        updated_files_dir, output_dir, \n",
    "        srcexptocan_trans_fp, srcacctocan_trans_fp)\n",
    "    loss_factor = 0.5\n",
    "    net_losses = generate_losses(\n",
    "        output_dir, xref_descriptions, loss_percentage_of_tiv=loss_factor, ri_layers=ri_layers)\n",
    "\n",
    "print(\"Ran {} inuring layers\".format(len(net_losses) - 1))\n",
    "print(\"Losses for:\")\n",
    "for key in net_losses.keys():\n",
    "    print(\"\\t{}\".format(key))"
   ]
  },
  {
   "cell_type": "code",
   "execution_count": null,
   "metadata": {},
   "outputs": [],
   "source": [
    "# View the direct losses.\n",
    "key = 'Direct'\n",
    "net_losses[key]"
   ]
  },
  {
   "cell_type": "code",
   "execution_count": null,
   "metadata": {},
   "outputs": [],
   "source": [
    "# View the losses for the first inuring layer.\n",
    "key = 'Inuring_priority:1 - Risk_level:LOC'\n",
    "losses = 'None'\n",
    "if key in net_losses:\n",
    "    losses = net_losses[key]\n",
    "losses"
   ]
  },
  {
   "cell_type": "markdown",
   "metadata": {},
   "source": [
    "## Optional Steps\n"
   ]
  },
  {
   "cell_type": "code",
   "execution_count": null,
   "metadata": {},
   "outputs": [],
   "source": [
    "# Automated testing on reinsurance examples\n",
    "!pytest -sp no:flaky -v tests/test_reinsurance.py"
   ]
  },
  {
   "cell_type": "code",
   "execution_count": null,
   "metadata": {},
   "outputs": [],
   "source": [
    "# Write outputs to CSV for download.\n",
    "for (description, net_loss) in net_losses.items():\n",
    "    filename = \"output_{}.csv\".format(description.replace(' ', '_'))\n",
    "    net_loss.to_csv(filename, index=False)"
   ]
  },
  {
   "cell_type": "code",
   "execution_count": null,
   "metadata": {},
   "outputs": [],
   "source": []
  }
 ],
 "metadata": {
  "kernelspec": {
   "display_name": "Python 3",
   "language": "python",
   "name": "python3"
  },
  "language_info": {
   "codemirror_mode": {
    "name": "ipython",
    "version": 3
   },
   "file_extension": ".py",
   "mimetype": "text/x-python",
   "name": "python",
   "nbconvert_exporter": "python",
   "pygments_lexer": "ipython3",
   "version": "3.5.2"
  }
 },
 "nbformat": 4,
 "nbformat_minor": 2
}
